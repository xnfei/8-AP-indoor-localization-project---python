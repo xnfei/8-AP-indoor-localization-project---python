{
 "cells": [
  {
   "cell_type": "code",
   "execution_count": 51,
   "metadata": {},
   "outputs": [],
   "source": [
    "'''\n",
    "1. When looking for the optimal k,random_state = 101\n",
    "2. using the optimal k from step 1. get the average mean RMSE from 21 random cases, where random_state = range(1,102,5)\n",
    "'''\n",
    "\n",
    "\n",
    "import numpy as np\n",
    "import matplotlib.pyplot as plt\n",
    "from sklearn import metrics\n",
    "import pandas as pd\n",
    "import seaborn as sns\n",
    "from sklearn.metrics import mean_absolute_error,mean_squared_error\n",
    "%matplotlib inline\n",
    "import math as m\n",
    "from sklearn.preprocessing import StandardScaler\n",
    "from sklearn.model_selection import train_test_split\n",
    "from sklearn.neighbors import KNeighborsClassifier\n",
    "from sklearn.metrics import classification_report,confusion_matrix\n",
    "pd.set_option(\"display.precision\", 8)\n",
    "import scipy.stats\n",
    "\n",
    "from sklearn import svm\n",
    "from sklearn.model_selection import learning_curve, GridSearchCV\n",
    "from sklearn.svm import SVC\n",
    "\n",
    "from sklearn.cluster import KMeans\n",
    "from scipy.io import loadmat\n",
    "\n",
    "def indexlist(data,checklist):\n",
    "    '''use indeces to mark the 143 gps coordinates'''\n",
    "    #checklist = data['ref_x'].unique()\n",
    "    for i in range(len(checklist)):\n",
    "        data['point_index'] = data['point_index'].replace([checklist.iloc[i,0]],i)\n",
    "    return data\n",
    "\n",
    "def rsrp_indexlist(data):\n",
    "    '''use indeces to mark the 41 rsrp clusters, where the cluster is categorized by the 3 largest signals'''\n",
    "    checklist = data['cluster'].unique()\n",
    "    for i in range(len(checklist)):\n",
    "        data['rsrp_cluster'] = data['rsrp_cluster'].replace(checklist[i],i)\n",
    "    return data\n",
    "\n",
    "def cluster(rsrp,num = 3):\n",
    "    dataset = rsrp.set_axis([0,1,2,3,4,5,6,7],axis=1).to_numpy()\n",
    "    #dataset = pd.read_csv('rds-SRSRP.csv').set_axis([0,1,2,3,4,5,6,7], axis=1).to_numpy()\n",
    "    #pick out the 3 largest values's indeces\n",
    "    cluster = dataset.argsort()[:,-num:]\n",
    "    ascending_cluster = pd.DataFrame(cluster)\n",
    "    #sort the indeces\n",
    "    cluster.sort()\n",
    "    if num == 3:\n",
    "        rsrp[['aaa','bbb','ccc']]=cluster\n",
    "    elif num ==2:\n",
    "        rsrp[['aaa','bbb']]=cluster\n",
    "    elif num == 1:\n",
    "        rsrp['aaa']=cluster\n",
    "    return rsrp, ascending_cluster\n",
    "\n",
    "def knn_nothing(data,gps,n_neighbors=10):\n",
    "    scaler = StandardScaler()\n",
    "    scaler.fit(data)\n",
    "    scaled_features = scaler.transform(data)\n",
    "    df_feat = pd.DataFrame(scaled_features,columns=data.columns)\n",
    "    X_train, X_test, y_train, y_test = train_test_split(scaled_features,gps['point_index'],\n",
    "                                                        test_size=0.20,random_state=101)\n",
    "    knn_model = KNeighborsClassifier(n_neighbors)\n",
    "    knn_model.fit(X_train,y_train)\n",
    "    pred = knn_model.predict(X_test)\n",
    "    accuracy = np.mean(pred == y_test)\n",
    "    #print(classification_report(y_test,pred))\n",
    "    return np.array([pred]),np.array([y_test])\n",
    "\n",
    "def knn_lin_data(feature_train,feature_test,k=5,clustering = True):\n",
    "    '''Using Lin's clustering idea '''\n",
    "    if clustering == True:\n",
    "        X_train, y_train = feature_train.iloc[:,:8],feature_train.iloc[:,-4:]\n",
    "        X_test, y_test = feature_test.iloc[:,:8],feature_test.iloc[:,-4:]\n",
    "    else:\n",
    "        X_train, y_train = feature_train.iloc[:,:8],feature_train.iloc[:,-1]\n",
    "        X_test, y_test = feature_test.iloc[:,:8],feature_test.iloc[:,-1]\n",
    "        \n",
    "    pred_rec = []\n",
    "    for i in range(len(y_test)):\n",
    "        if clustering == True:\n",
    "            # get the cluster index of the sample\n",
    "            a,b,c = y_test.iloc[i,:3]\n",
    "            #1.try to get 3 indeces\n",
    "            y_train_chosen_three = y_train[(y_train['aaa'] == a) & \n",
    "                                           (y_train['bbb'] == b) & \n",
    "                                           (y_train['ccc'] == c)]\n",
    "            chosen_indeces_three = y_train_chosen_three.index.values\n",
    "            if len(chosen_indeces_three) >=1:\n",
    "                output_indeces = chosen_indeces_three\n",
    "                output_y_train_chosen = y_train_chosen_three\n",
    "            else:\n",
    "                #2. instead, get 2 indeces\n",
    "                y_train_chosen_two = y_train[(y_train['bbb'] == b) & \n",
    "                                             (y_train['ccc'] == c)]\n",
    "                chosen_indeces_two = y_train_chosen_two.index.values\n",
    "                if len(chosen_indeces_two) >=1:\n",
    "                    output_indeces = chosen_indeces_two\n",
    "                    output_y_train_chosen = y_train_chosen_two\n",
    "                else:\n",
    "                    #3. instead, get 1 index\n",
    "                    y_train_chosen_one = y_train[(y_train['ccc'] == c)]\n",
    "                    chosen_indeces_one = y_train_chosen_one.index.values\n",
    "                    if len(chosen_indeces_one) >=1:\n",
    "                        output_indeces = chosen_indeces_one\n",
    "                        output_y_train_chosen = y_train_chosen_one\n",
    "\n",
    "            #get the norm-1 distance\n",
    "            distances = np.dot(np.abs(X_train.loc[output_indeces] - X_test.iloc[i]),np.ones(8))\n",
    "            nn_ids = distances.argsort()[:k]\n",
    "            nn_index = output_y_train_chosen.iloc[nn_ids,-1]\n",
    "        else:\n",
    "            distances = np.dot(np.abs(X_train - X_test.iloc[i]),np.ones(8))\n",
    "            nn_ids = distances.argsort()[:k]\n",
    "            nn_index = y_train.iloc[nn_ids]\n",
    "        \n",
    "        \n",
    "        index_mostcounted = np.unique(nn_index.values,return_counts=True)[1].argmax()\n",
    "        predi = int(np.unique(nn_index.values,return_counts=True)[0][index_mostcounted])\n",
    "        pred_rec.append(predi)\n",
    "    return np.array([pred_rec]),np.array([pd.DataFrame(y_test).iloc[:,-1]])\n",
    "\n",
    "\n",
    "#without clustering\n",
    "def knn_reg_lin_data(feature_train,feature_test,k=19,clustering = True):\n",
    "    '''in wknn, get weighted average of all k nearest nighbours is worse than average of only 4 top-count neighbours(n=4)'''\n",
    "    if clustering == True:\n",
    "        X_train, y_train = feature_train.iloc[:,:8],feature_train.iloc[:,-4:]\n",
    "        X_test, y_test = feature_test.iloc[:,:8],feature_test.iloc[:,-4:]\n",
    "        test_  = y_test.iloc[:,-1]\n",
    "    else:\n",
    "        X_train, y_train = feature_train.iloc[:,:8],feature_train.iloc[:,-1]\n",
    "        X_test, y_test = feature_test.iloc[:,:8],feature_test.iloc[:,-1]\n",
    "        test_  = y_test\n",
    "\n",
    "    pred_rec = []\n",
    "    for i in range(len(y_test)):\n",
    "        if clustering == True:\n",
    "            # get the cluster index of the sample\n",
    "            a,b,c = y_test.iloc[i,:3]\n",
    "            #1.try to get 3 indeces\n",
    "            y_train_chosen_three = y_train[(y_train['aaa'] == a) & \n",
    "                                           (y_train['bbb'] == b) & \n",
    "                                           (y_train['ccc'] == c)]\n",
    "            chosen_indeces_three = y_train_chosen_three.index.values\n",
    "            if len(chosen_indeces_three) >=1:\n",
    "                output_indeces = chosen_indeces_three\n",
    "                output_y_train_chosen = y_train_chosen_three\n",
    "            else:\n",
    "                #2. instead, get 2 indeces\n",
    "                y_train_chosen_two = y_train[(y_train['bbb'] == b) & \n",
    "                                             (y_train['ccc'] == c)]\n",
    "                chosen_indeces_two = y_train_chosen_two.index.values\n",
    "                if len(chosen_indeces_two) >=1:\n",
    "                    output_indeces = chosen_indeces_two\n",
    "                    output_y_train_chosen = y_train_chosen_two\n",
    "                else:\n",
    "                    #3. instead, get 1 index\n",
    "                    y_train_chosen_one = y_train[(y_train['ccc'] == c)]\n",
    "                    chosen_indeces_one = y_train_chosen_one.index.values\n",
    "                    if len(chosen_indeces_one) >=1:\n",
    "                        output_indeces = chosen_indeces_one\n",
    "                        output_y_train_chosen = y_train_chosen_one\n",
    "            #get the norm-1 distance\n",
    "            distances = np.dot(np.abs(X_train.loc[output_indeces] - X_test.iloc[i]),np.ones(8))\n",
    "            nn_ids = distances.argsort()[:k]\n",
    "            nn_index = output_y_train_chosen.iloc[nn_ids,-1] \n",
    "        else:\n",
    "            #get the norm-1 distance\n",
    "            distances = np.dot(np.abs(X_train - X_test.iloc[i]),np.ones(8))\n",
    "            nn_ids = distances.argsort()[:k]\n",
    "            nn_index = y_train.iloc[nn_ids]\n",
    "        #regression part\n",
    "        indeces = nn_index.value_counts().index\n",
    "        counts = nn_index.value_counts().values\n",
    "        x_values = []\n",
    "        y_values = []\n",
    "        for i in range(len(counts)):\n",
    "            x_values.append(np.array(checklist.iloc[int(indeces[i])][0]))\n",
    "            y_values.append(np.array(checklist.iloc[int(indeces[i])][1]))\n",
    "        x_values = np.array(x_values)\n",
    "        y_values = np.array(y_values)\n",
    "        pred_i = (np.dot(x_values.T,counts.T)/counts.sum(),\n",
    "                  np.dot(y_values.T,counts.T)/counts.sum())\n",
    "        pred_rec.append(pred_i)\n",
    "    pred_ = np.array(pred_rec)\n",
    "    # error calculation\n",
    "    se_rec = []\n",
    "    for i in range(len(test)):\n",
    "        lon_pred, lat_pred = pred_[i]\n",
    "        lon_, lat_ = checklist.iloc[int(test_[i])][0],checklist.iloc[int(test_[i])][1]\n",
    "        err_lon = lon_pred - lon_\n",
    "        err_lat = lat_pred -lat_\n",
    "        err_x = err_lon*((40000/360)*1000*m.cos(m.degrees(lat_)))\n",
    "        #err_x = err_lon*((40000/360)*1000*(m.cos(lat_)-m.cos(lat_pred)))\n",
    "        err_y = err_lat*((40000/360)*1000)\n",
    "        se = err_x**2 + err_y**2\n",
    "        se_rec.append(se)\n",
    "    return se_rec\n",
    "\n",
    "\n",
    "def error_record(y_p,y_,checklist,se_rec):\n",
    "    lon_pred, lat_pred = checklist.iloc[y_p][0], checklist.iloc[y_p][1]\n",
    "    lon_, lat_ = checklist.iloc[y_][0],checklist.iloc[y_][1]\n",
    "    err_lon = lon_pred - lon_\n",
    "    err_lat = lat_pred -lat_\n",
    "    err_x = err_lon*((40000/360)*1000*m.cos(m.degrees(lat_)))\n",
    "    #err_x = err_lon*((40000/360)*1000*(m.cos(lat_)-m.cos(lat_pred)))\n",
    "    err_y = err_lat*((40000/360)*1000)\n",
    "    se = err_x**2 + err_y**2\n",
    "    se_rec.append(se)\n",
    "\n",
    "def result_report(se_rec,test,verbose = False):\n",
    "    rmse = np.sqrt(sum(se_rec)/len(test))\n",
    "    a = np.sqrt(se_rec)\n",
    "    #reshape b from (1,1116) to (1116)\n",
    "    b = np.sort(a.T).flatten()\n",
    "    err_80 = b[int(len(a)*0.8)]\n",
    "    if verbose == True:\n",
    "        print(\"RMSE is {:.2f}m\".format(rmse))\n",
    "        print(\"When the accuracy is 80%,RMSE is {:.2f}m\".format(b[int(len(a)*0.8)]))\n",
    "    return rmse,err_80\n",
    "\n",
    "def give_result(result,checklist):\n",
    "    try:\n",
    "        se_rec = []\n",
    "        pred = np.array(result.pred)\n",
    "        test = np.array(result.test)\n",
    "        for i in range(len(result.test)):\n",
    "            y_ = int(test[i])\n",
    "            y_p = int(pred[i])\n",
    "            if y_ == y_p:\n",
    "                se = 0\n",
    "                se_rec.append(se)\n",
    "            else:\n",
    "                error_record(y_p,y_,checklist,se_rec)\n",
    "        rmse,err_80 = result_report(se_rec,test)\n",
    "    except:\n",
    "        rmse = np.sqrt(np.mean(result.error))\n",
    "        a = np.sqrt(result)\n",
    "        b = np.sort(a.T).flatten()\n",
    "        err_80=b[int(len(a)*0.8)]\n",
    "    return rmse,err_80"
   ]
  },
  {
   "cell_type": "code",
   "execution_count": 2,
   "metadata": {},
   "outputs": [
    {
     "name": "stderr",
     "output_type": "stream",
     "text": [
      "<ipython-input-2-7d416c326491>:11: SettingWithCopyWarning: \n",
      "A value is trying to be set on a copy of a slice from a DataFrame.\n",
      "Try using .loc[row_indexer,col_indexer] = value instead\n",
      "\n",
      "See the caveats in the documentation: https://pandas.pydata.org/pandas-docs/stable/user_guide/indexing.html#returning-a-view-versus-a-copy\n",
      "  gps_train['point_index'] = gps_train['ref_x']\n",
      "<ipython-input-2-7d416c326491>:12: SettingWithCopyWarning: \n",
      "A value is trying to be set on a copy of a slice from a DataFrame.\n",
      "Try using .loc[row_indexer,col_indexer] = value instead\n",
      "\n",
      "See the caveats in the documentation: https://pandas.pydata.org/pandas-docs/stable/user_guide/indexing.html#returning-a-view-versus-a-copy\n",
      "  gps_test['point_index'] = gps_test['ref_x']\n",
      "<ipython-input-1-301c50d3a956>:33: SettingWithCopyWarning: \n",
      "A value is trying to be set on a copy of a slice from a DataFrame.\n",
      "Try using .loc[row_indexer,col_indexer] = value instead\n",
      "\n",
      "See the caveats in the documentation: https://pandas.pydata.org/pandas-docs/stable/user_guide/indexing.html#returning-a-view-versus-a-copy\n",
      "  data['point_index'] = data['point_index'].replace([checklist.iloc[i,0]],i)\n"
     ]
    }
   ],
   "source": [
    "train = pd.read_csv('train.csv')\n",
    "test = pd.read_csv('test.csv')\n",
    "rsrp_train = train.iloc[:,:8]\n",
    "rsrp_test = test.iloc[:,:8]\n",
    "rsrp_train, ascending_cluster_train = cluster(rsrp_train,num=3)\n",
    "rsrp_test, ascending_cluster_test = cluster(rsrp_test,num=3)\n",
    "\n",
    "gps_train = train[[\"ref_x\",\"ref_y\"]]\n",
    "gps_test  = test[[\"ref_x\",\"ref_y\"]]\n",
    "#input indeces for each individual gps coordinates\n",
    "gps_train['point_index'] = gps_train['ref_x']\n",
    "gps_test['point_index'] = gps_test['ref_x']\n",
    "checklist = pd.DataFrame(np.append([gps_train.ref_x.unique()],[gps_train.ref_y.unique()],axis=0).T,\n",
    "                         columns = ['ref_x','ref_y'])\n",
    "gps_train = indexlist(gps_train,checklist)\n",
    "gps_test = indexlist(gps_test,checklist)\n",
    "feature_train = pd.concat([rsrp_train, gps_train['point_index']],axis = 1)\n",
    "feature_test = pd.concat([rsrp_test, gps_test['point_index']],axis = 1)"
   ]
  },
  {
   "cell_type": "code",
   "execution_count": 58,
   "metadata": {},
   "outputs": [
    {
     "name": "stdout",
     "output_type": "stream",
     "text": [
      "The accuracy is 46.09%\n",
      "RMSE is 9.61m\n",
      "When the accuracy is 80%,RMSE is 10.75m\n"
     ]
    }
   ],
   "source": [
    "prediction,test = knn_lin_data(feature_train,feature_test,k=8,clustering=False)\n",
    "df = np.append(prediction, test,axis=0)\n",
    "result = pd.DataFrame(df.T,columns = ['pred','test'])\n",
    "\n",
    "#report\n",
    "rmse,err_80 = give_result(result,checklist)\n",
    "print(\"The accuracy is {:.2f}%\".format(np.mean(result.pred == result.test)*100))\n",
    "print(\"RMSE is {:.2f}m\".format(rmse))\n",
    "print(\"When the accuracy is 80%,RMSE is {:.2f}m\".format(err_80))"
   ]
  },
  {
   "cell_type": "code",
   "execution_count": 57,
   "metadata": {},
   "outputs": [
    {
     "name": "stdout",
     "output_type": "stream",
     "text": [
      "When k = 8, the highest accuracy is 46.09%\n",
      "When k = 13, the lowest RMSE is 8.60m\n",
      "When the accuracy is 80%,RSE is 10.06m\n"
     ]
    }
   ],
   "source": [
    "#1-2 knn, find the optimal k, sorted\n",
    "rmse_rec = []\n",
    "err_80_rec = []\n",
    "acc_rec = []\n",
    "for k in range(1,21):\n",
    "    prediction,test = knn_lin_data(feature_train,feature_test,k=k,clustering=False)\n",
    "    df = np.append(prediction, test,axis=0)\n",
    "    result = pd.DataFrame(df.T,columns = ['pred','test'])\n",
    "    rmse,err_80 = give_result(result,checklist)\n",
    "    acc_rec.append(np.mean(result.pred==result.test))\n",
    "    rmse_rec.append(rmse)\n",
    "    err_80_rec.append(err_80)\n",
    "print('When k = {}, the highest accuracy is {:.2f}%'.format(np.argmax(acc_rec)+1,np.max(acc_rec)*100))\n",
    "\n",
    "print('When k = {}, the lowest RMSE is {:.2f}m'.format(np.argmin(rmse_rec)+1,np.min(rmse_rec)))\n",
    "print(\"When the accuracy is 80%,RSE is {:.2f}m\".format(err_80_rec[np.argmin(rmse_rec)]))"
   ]
  },
  {
   "cell_type": "code",
   "execution_count": 55,
   "metadata": {
    "scrolled": true
   },
   "outputs": [
    {
     "name": "stdout",
     "output_type": "stream",
     "text": [
      "The accuracy is 44.06%\n",
      "RMSE is 9.62m\n",
      "When the accuracy is 80%,RMSE is 10.89m\n"
     ]
    }
   ],
   "source": [
    "#1-1 knn, grouping , k=9\n",
    "prediction,test = knn_lin_data(feature_train,feature_test,k=9)\n",
    "df = np.append(prediction, test,axis=0)\n",
    "result = pd.DataFrame(df.T,columns = ['pred','test'])\n",
    "\n",
    "rmse,err_80 = give_result(result,checklist)\n",
    "print(\"The accuracy is {:.2f}%\".format(np.mean(result.pred == result.test)*100))\n",
    "print(\"RMSE is {:.2f}m\".format(rmse))\n",
    "print(\"When the accuracy is 80%,RMSE is {:.2f}m\".format(err_80))"
   ]
  },
  {
   "cell_type": "code",
   "execution_count": 89,
   "metadata": {},
   "outputs": [
    {
     "name": "stdout",
     "output_type": "stream",
     "text": [
      "When k = 9, the highest accuracy is 44.06%\n",
      "When k = 4, the lowest RMSE is 9.01m\n",
      "When the accuracy is 80%,RSE is 11.03m\n"
     ]
    }
   ],
   "source": [
    "#1-2 knn,grouping, find the optimal k, sorted\n",
    "rmse_rec = []\n",
    "err_80_rec = []\n",
    "acc_rec = []\n",
    "for k in range(1,21):\n",
    "    prediction,test = knn_lin_data(feature_train,feature_test,k=k)\n",
    "    df = np.append(prediction, test,axis=0)\n",
    "    result = pd.DataFrame(df.T,columns = ['pred','test'])\n",
    "    rmse,err_80 = give_result(result,checklist)\n",
    "    acc_rec.append(np.mean(result.pred==result.test))\n",
    "    rmse_rec.append(rmse)\n",
    "    err_80_rec.append(err_80)\n",
    "print('When k = {}, the highest accuracy is {:.2f}%'.format(np.argmax(acc_rec)+1,np.max(acc_rec)*100))\n",
    "\n",
    "print('When k = {}, the lowest RMSE is {:.2f}m'.format(np.argmin(rmse_rec)+1,np.min(rmse_rec)))\n",
    "print(\"When the accuracy is 80%,RSE is {:.2f}m\".format(err_80_rec[np.argmin(rmse_rec)]))"
   ]
  },
  {
   "cell_type": "code",
   "execution_count": 43,
   "metadata": {
    "scrolled": false
   },
   "outputs": [
    {
     "name": "stdout",
     "output_type": "stream",
     "text": [
      "Using manhattan, RMSE is 7.04m\n",
      "When the accuracy is 80%,RMSE is 8.28m\n"
     ]
    }
   ],
   "source": [
    "#2-1 knn, regression, k=12\n",
    "result = pd.DataFrame(knn_reg_lin_data(feature_train,feature_test,k=19,clustering = False),columns = ['error'])\n",
    "rmse,err_80 = give_result(result,checklist)\n",
    "print(\"Using manhattan, RMSE is {:.2f}m\".format(rmse))\n",
    "print(\"When the accuracy is 80%,RMSE is {:.2f}m\".format(err_80))"
   ]
  },
  {
   "cell_type": "code",
   "execution_count": 45,
   "metadata": {},
   "outputs": [
    {
     "name": "stdout",
     "output_type": "stream",
     "text": [
      "When k = 5, the lowest RMSE is 6.85m\n",
      "When the accuracy is 80%,RSE is 8.31m\n"
     ]
    }
   ],
   "source": [
    "#2-2 knn,regression, find the optimal k, sorted\n",
    "rmse_rec = []\n",
    "err_80_rec = []\n",
    "\n",
    "for k in range(1,21):\n",
    "    result = pd.DataFrame(knn_reg_lin_data(feature_train,feature_test,k=k,clustering = False),columns = ['error'])\n",
    "    rmse,err_80 = give_result(result,checklist)\n",
    "    rmse_rec.append(rmse)\n",
    "    err_80_rec.append(err_80)\n",
    "print('When k = {}, the lowest RMSE is {:.2f}m'.format(np.argmin(rmse_rec)+1,np.min(rmse_rec)))\n",
    "print(\"When the accuracy is 80%,RSE is {:.2f}m\".format(err_80_rec[np.argmin(rmse_rec)]))"
   ]
  },
  {
   "cell_type": "code",
   "execution_count": 27,
   "metadata": {},
   "outputs": [
    {
     "name": "stdout",
     "output_type": "stream",
     "text": [
      "Using manhattan, RMSE is 7.55m\n",
      "When the accuracy is 80%,RMSE is 8.59m\n"
     ]
    }
   ],
   "source": [
    "#3-1 knn, regression+grouping, k=19\n",
    "result = pd.DataFrame(knn_reg_lin_data(feature_train,feature_test,k=19,clustering = True),columns = ['error'])\n",
    "rmse,err_80 = give_result(result,checklist)\n",
    "print(\"Using manhattan, RMSE is {:.2f}m\".format(rmse))\n",
    "print(\"When the accuracy is 80%,RMSE is {:.2f}m\".format(err_80))"
   ]
  },
  {
   "cell_type": "code",
   "execution_count": 46,
   "metadata": {},
   "outputs": [
    {
     "name": "stdout",
     "output_type": "stream",
     "text": [
      "When k = 7, the lowest RMSE is 7.06m\n",
      "When the accuracy is 80%,RSE is 8.36m\n"
     ]
    }
   ],
   "source": [
    "#3-2 knn,grouping+regression, find the optimal k, sorted\n",
    "rmse_rec = []\n",
    "err_80_rec = []\n",
    "\n",
    "for k in range(1,21):\n",
    "    result = pd.DataFrame(knn_reg_lin_data(feature_train,feature_test,k=k,clustering = True),columns = ['error'])\n",
    "    rmse,err_80 = give_result(result,checklist)\n",
    "    rmse_rec.append(rmse)\n",
    "    err_80_rec.append(err_80)\n",
    "print('When k = {}, the lowest RMSE is {:.2f}m'.format(np.argmin(rmse_rec)+1,np.min(rmse_rec)))\n",
    "print(\"When the accuracy is 80%,RSE is {:.2f}m\".format(err_80_rec[np.argmin(rmse_rec)]))"
   ]
  },
  {
   "cell_type": "code",
   "execution_count": null,
   "metadata": {},
   "outputs": [],
   "source": []
  }
 ],
 "metadata": {
  "kernelspec": {
   "display_name": "Python 3",
   "language": "python",
   "name": "python3"
  },
  "language_info": {
   "codemirror_mode": {
    "name": "ipython",
    "version": 3
   },
   "file_extension": ".py",
   "mimetype": "text/x-python",
   "name": "python",
   "nbconvert_exporter": "python",
   "pygments_lexer": "ipython3",
   "version": "3.8.5"
  }
 },
 "nbformat": 4,
 "nbformat_minor": 4
}
