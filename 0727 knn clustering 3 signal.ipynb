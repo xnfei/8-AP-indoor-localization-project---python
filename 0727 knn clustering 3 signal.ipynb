{
 "cells": [
  {
   "cell_type": "code",
   "execution_count": 156,
   "metadata": {},
   "outputs": [],
   "source": [
    "'''\n",
    "1. When looking for the optimal k,random_state = 101\n",
    "2. using the optimal k from step 1. get the average mean RMSE from 21 random cases, where random_state = range(1,102,5)\n",
    "'''\n",
    "\n",
    "\n",
    "import numpy as np\n",
    "import matplotlib.pyplot as plt\n",
    "from sklearn import metrics\n",
    "import pandas as pd\n",
    "import seaborn as sns\n",
    "from sklearn.metrics import mean_absolute_error,mean_squared_error\n",
    "%matplotlib inline\n",
    "import math as m\n",
    "from sklearn.preprocessing import StandardScaler\n",
    "from sklearn.model_selection import train_test_split\n",
    "from sklearn.neighbors import KNeighborsClassifier\n",
    "from sklearn.metrics import classification_report,confusion_matrix\n",
    "pd.set_option(\"display.precision\", 8)\n",
    "import scipy.stats\n",
    "\n",
    "from sklearn import svm\n",
    "from sklearn.model_selection import learning_curve, GridSearchCV\n",
    "from sklearn.svm import SVC\n",
    "\n",
    "from sklearn.cluster import KMeans\n",
    "\n",
    "def indexlist(data):\n",
    "    '''use indeces to mark the 143 gps coordinates'''\n",
    "    checklist = data['ref_x'].unique()\n",
    "    for i in range(len(checklist)):\n",
    "        data['point_index'] = data['point_index'].replace([checklist[i]],i)\n",
    "    return data\n",
    "\n",
    "def cluster(rsrp,num = 3,delete_tiny = False):\n",
    "    data = pd.read_csv('rds-SRSRP.csv').set_axis([0,1,2,3,4,5,6,7], axis=1)\n",
    "    dataset = data.to_numpy()\n",
    "    cluster = dataset.argsort()[:,-num:]\n",
    "    cluster.sort()\n",
    "    cluster_sum = []\n",
    "    for row in cluster:\n",
    "        sorted_cluster = ''\n",
    "        for item in row:\n",
    "            sorted_cluster += str(item)\n",
    "        cluster_sum.append(sorted_cluster)\n",
    "    cluster_df = pd.DataFrame(cluster_sum)\n",
    "    #\n",
    "    #cluster_checklist = np.unique(cluster_sum)\n",
    "    cluster_checklist = cluster_df.value_counts().index.values\n",
    "    \n",
    "\n",
    "    #get the number of samples in each n-signal cluster\n",
    "    cluster_size = cluster_df.value_counts().values\n",
    "    #get the indeces of big clusters and tiny clusters\n",
    "    tiny_cluster_index, big_cluster_index = np.where(cluster_size<20)[0], np.where(cluster_size>=20)[0]\n",
    "    #the replace list=[[big_cluster_indeces],[np.ones(length of tiny cluster indeces)]*the first attribute of the tiny _cluster_index]\n",
    "    if delete_tiny == False:\n",
    "        try:\n",
    "            replace_list = np.append(range(len(big_cluster_index)),np.ones(len(tiny_cluster_index),dtype = int)*tiny_cluster_index[0])\n",
    "        except:\n",
    "            replace_list = range(len(big_cluster_index))\n",
    "        rsrp['cluster'] = cluster_df.replace(cluster_checklist,replace_list)\n",
    "        return rsrp\n",
    "    else:\n",
    "        '''drop tiny clusters'''\n",
    "        tiny_index = np.array([])\n",
    "        for i in range(len(big_cluster_index),len(big_cluster_index)+len(tiny_cluster_index)):\n",
    "            tiny_index = np.append(tiny_index,np.where(cluster_df==cluster_checklist[i])[0])\n",
    "        replace_list = np.append(range(len(big_cluster_index)),np.ones(len(tiny_cluster_index),dtype = int)*tiny_cluster_index[0])\n",
    "        rsrp['cluster'] = cluster_df.replace(cluster_checklist,replace_list)\n",
    "        return rsrp,tiny_index\n",
    "\n",
    "def rsrp_indexlist(data):\n",
    "    '''use indeces to mark the 41 rsrp clusters, where the cluster is categorized by the 3 largest signals'''\n",
    "    checklist = data['cluster'].unique()\n",
    "    for i in range(len(checklist)):\n",
    "        data['rsrp_cluster'] = data['rsrp_cluster'].replace(checklist[i],i)\n",
    "    return data\n",
    "\n",
    "def knn(data,gps,n_neighbors=10):\n",
    "    scaler = StandardScaler()\n",
    "    scaler.fit(data)\n",
    "    scaled_features = scaler.transform(data)\n",
    "    df_feat = pd.DataFrame(scaled_features,columns=data.columns)\n",
    "    X_train, X_test, y_train, y_test = train_test_split(scaled_features,gps['point_index'],\n",
    "                                                        test_size=0.20,random_state=101)\n",
    "    knn_model = KNeighborsClassifier(n_neighbors)\n",
    "    knn_model.fit(X_train,y_train)\n",
    "    pred = knn_model.predict(X_test)\n",
    "    accuracy = np.mean(pred == y_test)\n",
    "    #print(classification_report(y_test,pred))\n",
    "    return np.array([pred]),np.array([y_test])\n",
    "    \n",
    "    \n",
    "def knn_manhattan(data,k=5,state = 101,clustering = True,manhattan = True):\n",
    "    '''Using Lin's idea '''\n",
    "    '''try&if: using cluster method\n",
    "       except&else: using non-cluster method\n",
    "    '''\n",
    "    if clustering == True:\n",
    "        X_train, X_test, y_train, y_test = train_test_split(data.iloc[:,:8],data.iloc[:,-2:],\n",
    "                                                        test_size=0.20,random_state=state)\n",
    "    else:\n",
    "        X_train, X_test, y_train, y_test = train_test_split(data.iloc[:,:8],data.iloc[:,-1],\n",
    "                                                        test_size=0.20,random_state=state)\n",
    "    pred_rec = []\n",
    "\n",
    "    for i in range(len(y_test)):\n",
    "        try:\n",
    "            # get the cluster index\n",
    "            sample_cluster = y_test.iloc[i,0]\n",
    "            y_train_chosen = y_train[y_train['cluster'] == sample_cluster]\n",
    "            chosen_indeces = y_train_chosen.index.values\n",
    "            #get the norm-1 distance\n",
    "            if manhattan == True:\n",
    "                distances = np.dot(np.abs(X_train.loc[chosen_indeces] - X_test.iloc[i]),np.ones(8))\n",
    "            else:\n",
    "                distances = np.sqrt(np.sum(np.square(X_train.loc[chosen_indeces] - X_test.iloc[i]),axis=1)).values\n",
    "            nn_ids = distances.argsort()[:k]\n",
    "            nn_index = y_train_chosen.iloc[nn_ids,1]\n",
    "        except:\n",
    "            if manhattan == True:\n",
    "                distances = np.dot(np.abs(X_train - X_test.iloc[i]),np.ones(8))\n",
    "            else:\n",
    "                distances = np.sqrt(np.sum(np.square(X_train - X_test.iloc[i]),axis=1)).values\n",
    "            \n",
    "            nn_ids = distances.argsort()[:k]\n",
    "            nn_index = y_train.iloc[nn_ids]\n",
    "        predi = int(scipy.stats.mode(nn_index)[0][0])\n",
    "        pred_rec.append(predi)\n",
    "    try:\n",
    "        return np.array([pred_rec]),np.array([y_test.iloc[:,-1]])\n",
    "    except:\n",
    "        return np.array([pred_rec]),np.array([y_test])\n",
    "\n",
    "def knn_reg_manhattan(data,k=19,state=101,clustering = True,manhattan = True):\n",
    "    '''in wknn, get weighted average of all k nearest nighbours is worse than average of only 4 top-count neighbours(n=4)'''\n",
    "    if clustering == True:\n",
    "        X_train, X_test, y_train, y_test = train_test_split(data.iloc[:,:8],data.iloc[:,-2:],\n",
    "                                                        test_size=0.20,random_state=state)\n",
    "    else:\n",
    "        X_train, X_test, y_train, y_test = train_test_split(data.iloc[:,:8],data.iloc[:,-1],\n",
    "                                                        test_size=0.20,random_state=state)\n",
    "    test = gps.iloc[y_test.index]\n",
    "    test_ = np.array(list(zip(test.ref_x, test.ref_y)))\n",
    "    pred_rec = []\n",
    "    for i in range(len(y_test)):\n",
    "        try:\n",
    "            # get the cluster index\n",
    "            sample_cluster = y_test.iloc[i,0]\n",
    "            y_train_chosen = y_train[y_train['cluster'] == sample_cluster]\n",
    "            chosen_indeces = y_train_chosen.index.values\n",
    "            #get the norm-1 distance\n",
    "            if manhattan == True:\n",
    "                distances = np.dot(np.abs(X_train.loc[chosen_indeces] - X_test.iloc[i]),np.ones(8))\n",
    "            else:\n",
    "                distances = np.sqrt(np.sum(np.square(X_train.loc[chosen_indeces] - X_test.iloc[i]),axis=1)).values\n",
    "            nn_ids = distances.argsort()[:k]\n",
    "            nn_index = y_train_chosen.iloc[nn_ids,1]\n",
    "        except:\n",
    "            if manhattan == True:\n",
    "                distances = np.dot(np.abs(X_train - X_test.iloc[i]),np.ones(8))\n",
    "            else:\n",
    "                distances = np.sqrt(np.sum(np.square(X_train - X_test.iloc[i]),axis=1)).values\n",
    "            nn_ids = distances.argsort()[:k]\n",
    "            nn_index = y_train.iloc[nn_ids]\n",
    "        indeces = nn_index.value_counts().index[:4]\n",
    "        counts = nn_index.value_counts().values[:4]\n",
    "        #indeces = nn_index.value_counts().index\n",
    "        #counts = nn_index.value_counts().values\n",
    "        try:\n",
    "            values = []\n",
    "            for i in range(4):\n",
    "                values.append(np.array(checklist.iloc[int(indeces[i])][0]))\n",
    "            values = np.array(values)\n",
    "            pred_i = np.dot(values.T,counts.T)/counts.sum()\n",
    "        # if the location number < 3, choose the location with the highest counts\n",
    "        except:\n",
    "            pred_i = checklist.iloc[int(indeces[0])][0]\n",
    "        pred_rec.append(pred_i)\n",
    "    pred_ = np.array(pred_rec)\n",
    "    se_rec = []\n",
    "    for i in range(len(test)):\n",
    "        lon_pred, lat_pred = pred_[i]\n",
    "        lon_, lat_ = test_[i]\n",
    "        err_lon = lon_pred - lon_\n",
    "        err_lat = lat_pred -lat_\n",
    "        err_x = err_lon*((40000/360)*1000*m.cos(lat_pred))\n",
    "        err_y = err_lat*((40000/360)*1000)\n",
    "        se = err_x**2 + err_y**2\n",
    "        se_rec.append(se)\n",
    "    return se_rec\n",
    "\n",
    "\n",
    "def error_record(y_p,y_,checklist,se_rec):\n",
    "    lon_pred, lat_pred = checklist.iloc[y_p][0]\n",
    "    lon_, lat_ = checklist.iloc[y_][0]\n",
    "    err_lon = lon_pred - lon_\n",
    "    err_lat = lat_pred -lat_\n",
    "    err_x = err_lon*((40000/360)*1000*m.cos(lat_pred))\n",
    "    err_y = err_lat*((40000/360)*1000)\n",
    "    se = err_x**2 + err_y**2\n",
    "    se_rec.append(se)\n",
    "\n",
    "def result_report(se_rec,test,verbose = False):\n",
    "    rmse = np.sqrt(sum(se_rec)/len(test))\n",
    "    a = np.sqrt(se_rec)\n",
    "    #reshape b from (1,1116) to (1116)\n",
    "    b = np.sort(a.T).flatten()\n",
    "    err_80 = b[int(len(a)*0.8)]\n",
    "    if verbose == True:\n",
    "        print(\"RMSE is {:.2f}m\".format(rmse))\n",
    "        print(\"When the accuracy is 80%,RMSE is {:.2f}m\".format(b[int(len(a)*0.8)]))\n",
    "    return rmse,err_80\n",
    "\n",
    "def give_result(result,checklist):\n",
    "    try:\n",
    "        se_rec = []\n",
    "        pred = np.array(result.pred)\n",
    "        test = np.array(result.test)\n",
    "        for i in range(len(result.test)):\n",
    "            y_ = int(test[i])\n",
    "            y_p = int(pred[i])\n",
    "            if y_ == y_p:\n",
    "                se = 0\n",
    "                se_rec.append(se)\n",
    "            else:\n",
    "                error_record(y_p,y_,checklist,se_rec)\n",
    "        rmse,err_80 = result_report(se_rec,test)\n",
    "    except:\n",
    "        rmse = np.sqrt(np.mean(result.error))\n",
    "        a = np.sqrt(result)\n",
    "        b = np.sort(a.T).flatten()\n",
    "        err_80=b[int(len(a)*0.8)]\n",
    "    return rmse,err_80"
   ]
  },
  {
   "cell_type": "code",
   "execution_count": 157,
   "metadata": {},
   "outputs": [],
   "source": [
    "rsrp = pd.read_csv('rds-SRSRP.csv')\n",
    "gps = pd.read_csv(\"gps.csv\")\n",
    "gps['point_index'] = gps['ref_x']\n",
    "gps['coordinate'] =  list(zip(gps.ref_x, gps.ref_y))\n",
    "#input indeces for each individual gps coordinates\n",
    "gps['point_index'] = gps['ref_x']\n",
    "gps = indexlist(gps)\n",
    "checklist = pd.DataFrame(gps.coordinate.unique(),columns = ['coordinate'])\n",
    "\n",
    "#cluster by the 3 largest value\n",
    "\"\"\"method 1: combine all the tiny clusters into the last cluster\"\"\"\n",
    "'''\n",
    "rsrp = cluster(rsrp,num = 3,delete_tiny=False)\n",
    "feature = pd.concat([rsrp, gps['point_index']],axis = 1)\n",
    "cluster_number = len(rsrp['cluster'].unique())\n",
    "'''\n",
    "\n",
    "'''method 2: num=3 delete all the tiny clusters and reindex the dataset'''\n",
    "'''\n",
    "rsrp,tiny_index = cluster(rsrp,num = 3,delete_tiny=True)\n",
    "feature = feature = pd.concat([rsrp, gps['point_index']],axis = 1)\n",
    "feature = feature.drop(index = tiny_index)\n",
    "cluster_number = len(rsrp['cluster'].unique())\n",
    "'''\n",
    "\n",
    "\n",
    "'''method 3: num=2 delete all the tiny clusters and reindex the dataset'''\n",
    "rsrp,tiny_index = cluster(rsrp,num = 2,delete_tiny=True)\n",
    "feature = feature = pd.concat([rsrp, gps['point_index']],axis = 1)\n",
    "feature = feature.drop(index = tiny_index)\n",
    "cluster_number = len(rsrp['cluster'].unique())\n"
   ]
  },
  {
   "cell_type": "code",
   "execution_count": 158,
   "metadata": {},
   "outputs": [
    {
     "data": {
      "text/plain": [
       "Int64Index([   0,    1,    2,    3,    4,    5,    6,    7,    8,    9,\n",
       "            ...\n",
       "            5561, 5562, 5563, 5564, 5565, 5566, 5567, 5568, 5569, 5570],\n",
       "           dtype='int64', length=5529)"
      ]
     },
     "execution_count": 158,
     "metadata": {},
     "output_type": "execute_result"
    }
   ],
   "source": [
    "feature.isna().index"
   ]
  },
  {
   "cell_type": "code",
   "execution_count": 149,
   "metadata": {},
   "outputs": [
    {
     "name": "stdout",
     "output_type": "stream",
     "text": [
      "The accuracy is 40.00%\n",
      "RMSE is 9.48m\n",
      "When the accuracy is 80%,RMSE is 11.12m\n"
     ]
    }
   ],
   "source": [
    "#Ex.0-1-0 knn\n",
    "prediction,test = knn(rsrp.iloc[:,:8],gps,n_neighbors=5)\n",
    "df = np.append(prediction, test,axis=0)\n",
    "result = pd.DataFrame(df.T,columns = ['pred','test'])\n",
    "\n",
    "#report\n",
    "rmse,err_80 = give_result(result,checklist)\n",
    "print(\"The accuracy is {:.2f}%\".format(np.mean(result.pred == result.test)*100))\n",
    "print(\"RMSE is {:.2f}m\".format(rmse))\n",
    "print(\"When the accuracy is 80%,RMSE is {:.2f}m\".format(err_80))"
   ]
  },
  {
   "cell_type": "code",
   "execution_count": 145,
   "metadata": {
    "scrolled": true
   },
   "outputs": [
    {
     "name": "stdout",
     "output_type": "stream",
     "text": [
      "Using manhattan, the accuracy is 39.01%\n",
      "RMSE is 9.67m\n",
      "When the accuracy is 80%,RMSE is 11.55m\n",
      "Using Euclidean, the accuracy is 40.20%\n",
      "RMSE is 9.72m\n",
      "When the accuracy is 80%,RMSE is 12.17m\n"
     ]
    }
   ],
   "source": [
    "#Ex.0-1-1 knn,k=5\n",
    "'''in knn euclidean distance is better'''\n",
    "prediction, test = knn_manhattan(feature,k=1,clustering=False,manhattan=True)\n",
    "df = np.append(prediction, test,axis=0)\n",
    "result = pd.DataFrame(df.T,columns = ['pred','test'])\n",
    "#report\n",
    "rmse,err_80 = give_result(result,checklist)\n",
    "print(\"Using manhattan, the accuracy is {:.2f}%\".format(np.mean(result.pred == result.test)*100))\n",
    "print(\"RMSE is {:.2f}m\".format(rmse))\n",
    "print(\"When the accuracy is 80%,RMSE is {:.2f}m\".format(err_80))\n",
    "\n",
    "#Ex.1-1-2 knn,k=5\n",
    "'''in knn euclidean distance is better'''\n",
    "prediction, test = knn_manhattan(feature,k=1,clustering=False,manhattan=False)\n",
    "df = np.append(prediction, test,axis=0)\n",
    "result = pd.DataFrame(df.T,columns = ['pred','test'])\n",
    "#report\n",
    "rmse,err_80 = give_result(result,checklist)\n",
    "print(\"Using Euclidean, the accuracy is {:.2f}%\".format(np.mean(result.pred == result.test)*100))\n",
    "print(\"RMSE is {:.2f}m\".format(rmse))\n",
    "print(\"When the accuracy is 80%,RMSE is {:.2f}m\".format(err_80))"
   ]
  },
  {
   "cell_type": "code",
   "execution_count": 144,
   "metadata": {},
   "outputs": [
    {
     "name": "stdout",
     "output_type": "stream",
     "text": [
      "When k = 1, the highest accuracy is 40.20%\n",
      "When k = 1, the lowest RMSE is 9.72m\n",
      "When the accuracy is 80%,RSE is 12.17m\n"
     ]
    }
   ],
   "source": [
    "#Ex.0-2 knn find optimal k \n",
    "acc_rec = []\n",
    "rmse_rec = []\n",
    "err_80_rec = []\n",
    "for k in range(1,31):\n",
    "    prediction, test = knn_manhattan(feature,k=k,clustering=False,manhattan=False)\n",
    "    df = np.append(prediction, test,axis=0)\n",
    "    result = pd.DataFrame(df.T,columns = ['pred','test'])\n",
    "    rmse,err_80 = give_result(result,checklist)\n",
    "    acc_rec.append(np.mean(result.pred==result.test))\n",
    "    rmse_rec.append(rmse)\n",
    "    err_80_rec.append(err_80)\n",
    "print('When k = {}, the highest accuracy is {:.2f}%'.format(np.argmax(acc_rec)+1,np.max(acc_rec)*100))\n",
    "print('When k = {}, the lowest RMSE is {:.2f}m'.format(np.argmin(rmse_rec)+1,np.min(rmse_rec)))\n",
    "print(\"When the accuracy is 80%,RSE is {:.2f}m\".format(err_80_rec[np.argmin(rmse_rec)]))"
   ]
  },
  {
   "cell_type": "code",
   "execution_count": 150,
   "metadata": {},
   "outputs": [
    {
     "name": "stdout",
     "output_type": "stream",
     "text": [
      "Using manhattan, the accuracy is 37.99%\n",
      "RMSE is 9.82m\n",
      "When the accuracy is 80%,RMSE is 12.31m\n",
      "Using Euclidean, the accuracy is 38.45%\n",
      "RMSE is 9.99m\n",
      "When the accuracy is 80%,RMSE is 12.63m\n"
     ]
    }
   ],
   "source": [
    "#Ex.1-1 knn clustering ,k=1\n",
    "\n",
    "prediction, test = knn_manhattan(feature,k=1,manhattan=True)\n",
    "df = np.append(prediction, test,axis=0)\n",
    "result = pd.DataFrame(df.T,columns = ['pred','test'])\n",
    "\n",
    "#report\n",
    "rmse,err_80 = give_result(result,checklist)\n",
    "print(\"Using manhattan, the accuracy is {:.2f}%\".format(np.mean(result.pred == result.test)*100))\n",
    "print(\"RMSE is {:.2f}m\".format(rmse))\n",
    "print(\"When the accuracy is 80%,RMSE is {:.2f}m\".format(err_80))\n",
    "\n",
    "#Ex.1-1 knn clustering ,k=1\n",
    "\n",
    "prediction, test = knn_manhattan(feature,k=1,manhattan=False)\n",
    "df = np.append(prediction, test,axis=0)\n",
    "result = pd.DataFrame(df.T,columns = ['pred','test'])\n",
    "\n",
    "#report\n",
    "rmse,err_80 = give_result(result,checklist)\n",
    "print(\"Using Euclidean, the accuracy is {:.2f}%\".format(np.mean(result.pred == result.test)*100))\n",
    "print(\"RMSE is {:.2f}m\".format(rmse))\n",
    "print(\"When the accuracy is 80%,RMSE is {:.2f}m\".format(err_80))"
   ]
  },
  {
   "cell_type": "code",
   "execution_count": 151,
   "metadata": {},
   "outputs": [
    {
     "name": "stdout",
     "output_type": "stream",
     "text": [
      "When k = 1, the highest accuracy is 38.45%\n",
      "When k = 1, the lowest RMSE is 9.99m\n",
      "When the accuracy is 80%,RSE is 12.63m\n"
     ]
    }
   ],
   "source": [
    "#Ex.1-2 knn clustering find optimal k \n",
    "acc_rec = []\n",
    "rmse_rec = []\n",
    "err_80_rec = []\n",
    "for k in range(1,21):\n",
    "    prediction, test = knn_manhattan(feature,k = k,manhattan=False)\n",
    "    df = np.append(prediction, test,axis=0)\n",
    "    result = pd.DataFrame(df.T,columns = ['pred','test'])\n",
    "    rmse,err_80 = give_result(result,checklist)\n",
    "    acc_rec.append(np.mean(result.pred==result.test))\n",
    "    rmse_rec.append(rmse)\n",
    "    err_80_rec.append(err_80)\n",
    "print('When k = {}, the highest accuracy is {:.2f}%'.format(np.argmax(acc_rec)+1,np.max(acc_rec)*100))\n",
    "print('When k = {}, the lowest RMSE is {:.2f}m'.format(np.argmin(rmse_rec)+1,np.min(rmse_rec)))\n",
    "print(\"When the accuracy is 80%,RSE is {:.2f}m\".format(err_80_rec[np.argmin(rmse_rec)]))"
   ]
  },
  {
   "cell_type": "code",
   "execution_count": 153,
   "metadata": {},
   "outputs": [
    {
     "name": "stdout",
     "output_type": "stream",
     "text": [
      "Using manhattan, RMSE is 7.83m\n",
      "When the accuracy is 80%,RMSE is 9.45m\n",
      "Using Euclidean, RMSE is 8.03m\n",
      "When the accuracy is 80%,RMSE is 9.67m\n"
     ]
    }
   ],
   "source": [
    "#Ex.2-1 knn regression,k=19\n",
    "result = pd.DataFrame(knn_reg_manhattan(feature,k=17,clustering=False,manhattan=True),columns = ['error'])\n",
    "rmse,err_80 = give_result(result,checklist)\n",
    "print(\"Using manhattan, RMSE is {:.2f}m\".format(rmse))\n",
    "print(\"When the accuracy is 80%,RMSE is {:.2f}m\".format(err_80))\n",
    "\n",
    "#Ex.2-2 knn regression,k=19\n",
    "result = pd.DataFrame(knn_reg_manhattan(feature,k=17,clustering=False,manhattan=False),columns = ['error'])\n",
    "rmse,err_80 = give_result(result,checklist)\n",
    "print(\"Using Euclidean, RMSE is {:.2f}m\".format(rmse))\n",
    "print(\"When the accuracy is 80%,RMSE is {:.2f}m\".format(err_80))"
   ]
  },
  {
   "cell_type": "code",
   "execution_count": 152,
   "metadata": {},
   "outputs": [
    {
     "name": "stdout",
     "output_type": "stream",
     "text": [
      "When k = 17, the lowest RMSE is 7.83m.\n",
      "When the accuracy is 80%,RSE is 9.45m.\n"
     ]
    }
   ],
   "source": [
    "#Ex.2-2 knn reg.  find optimal k\n",
    "rmse_rec = []\n",
    "err_80_rec = []\n",
    "for k in range (1,31):\n",
    "    result = pd.DataFrame(knn_reg_manhattan(feature,k=k,clustering=False),columns = ['error'])\n",
    "    rmse,err_80 = give_result(result,checklist)\n",
    "    rmse_rec.append(rmse)\n",
    "    err_80_rec.append(err_80)\n",
    "print('When k = {}, the lowest RMSE is {:.2f}m.'.format(np.argmin(rmse_rec)+1,np.min(rmse_rec)))\n",
    "print(\"When the accuracy is 80%,RSE is {:.2f}m.\".format(err_80_rec[np.argmin(rmse_rec)]))"
   ]
  },
  {
   "cell_type": "code",
   "execution_count": 15,
   "metadata": {},
   "outputs": [
    {
     "data": {
      "text/plain": [
       "Text(0, 0.5, 'error')"
      ]
     },
     "execution_count": 15,
     "metadata": {},
     "output_type": "execute_result"
    },
    {
     "data": {
      "image/png": "[encoded data removed]",
      "text/plain": [
       "<Figure size 432x288 with 1 Axes>"
      ]
     },
     "metadata": {
      "needs_background": "light"
     },
     "output_type": "display_data"
    }
   ],
   "source": [
    "#knn, plot(k)\n",
    "plt.plot(range(1,31),rmse_rec,color='blue', linestyle='dashed', marker='o',\n",
    "             markerfacecolor='red', markersize=5,label='rmse)')\n",
    "plt.plot(range(1,31),err_80_rec,color='green', linestyle='dashed', marker='o',\n",
    "             markerfacecolor='red', markersize=5,label='rmse_80')\n",
    "plt.legend()\n",
    "plt.title('knn_reg error vs k value')\n",
    "plt.xlabel('k value')\n",
    "plt.ylabel('error')"
   ]
  },
  {
   "cell_type": "code",
   "execution_count": 32,
   "metadata": {},
   "outputs": [
    {
     "name": "stdout",
     "output_type": "stream",
     "text": [
      "The RMSE is 7.28m; the 80% error is 8.87m.\n"
     ]
    }
   ],
   "source": [
    "#Ex.2-3 knn reg. gets the mean RMSE for 21 random states\n",
    "rmse_rec = []\n",
    "err_80_rec = []\n",
    "for state in range(1,102,5):\n",
    "    #wknn regression with clustering\n",
    "    result = pd.DataFrame(knn_reg_manhattan(data_sub,k=13,state = state),columns = ['error'])\n",
    "    rmse = np.sqrt(np.mean(result.error))\n",
    "    rmse_rec.append(rmse)\n",
    "    #reshape b from (1,1116) to (1116)\n",
    "    a = np.sqrt(result)\n",
    "    b = np.sort(a.T).flatten()\n",
    "    err_80=b[int(len(a)*0.8)]\n",
    "    err_80_rec.append(err_80)\n",
    "    #print(\"RMSE is {:.2f}m\".format(rmse))\n",
    "    #print(\"When the accuracy is 80%,RMSE is {:.2f}m\".format(b[int(len(a)*0.8)]))\n",
    "print('knn regression')\n",
    "print('The RMSE is {:.2f}m; the 80% error is {:.2f}m.'.format(np.mean(rmse_rec),np.mean(err_80_rec)))"
   ]
  },
  {
   "cell_type": "code",
   "execution_count": null,
   "metadata": {},
   "outputs": [],
   "source": []
  },
  {
   "cell_type": "code",
   "execution_count": 155,
   "metadata": {},
   "outputs": [
    {
     "name": "stdout",
     "output_type": "stream",
     "text": [
      "Using manhattan, RMSE is 8.35m\n",
      "When the accuracy is 80%,RMSE is 9.96m\n",
      "Using Euclidean, RMSE is 8.46m\n",
      "When the accuracy is 80%,RMSE is 10.43m\n"
     ]
    }
   ],
   "source": [
    "#Ex.3-1-1 knn regression  with clustering,k=8\n",
    "result = pd.DataFrame(knn_reg_manhattan(feature,k=12,manhattan=True),columns = ['error'])\n",
    "rmse,err_80 = give_result(result,checklist)\n",
    "print(\"Using manhattan, RMSE is {:.2f}m\".format(rmse))\n",
    "print(\"When the accuracy is 80%,RMSE is {:.2f}m\".format(err_80))\n",
    "\n",
    "#Ex.3-1-2 knn regression  with clustering,k=8\n",
    "result = pd.DataFrame(knn_reg_manhattan(feature,k=12,manhattan=False),columns = ['error'])\n",
    "rmse,err_80 = give_result(result,checklist)\n",
    "print(\"Using Euclidean, RMSE is {:.2f}m\".format(rmse))\n",
    "print(\"When the accuracy is 80%,RMSE is {:.2f}m\".format(err_80))"
   ]
  },
  {
   "cell_type": "code",
   "execution_count": 154,
   "metadata": {},
   "outputs": [
    {
     "name": "stdout",
     "output_type": "stream",
     "text": [
      "When k = 12, the lowest RMSE is 8.35m.\n",
      "When the accuracy is 80%,RSE is 9.96m.\n"
     ]
    }
   ],
   "source": [
    "#Ex.3-2 knn regression  with clustering find optimal k\n",
    "rmse_rec = []\n",
    "err_80_rec = []\n",
    "for k in range (1,31):\n",
    "    result = pd.DataFrame(knn_reg_manhattan(feature,k=k),columns = ['error'])\n",
    "    rmse,err_80 = give_result(result,checklist)\n",
    "    rmse_rec.append(rmse)\n",
    "    err_80_rec.append(err_80)\n",
    "print('When k = {}, the lowest RMSE is {:.2f}m.'.format(np.argmin(rmse_rec)+1,np.min(rmse_rec)))\n",
    "print(\"When the accuracy is 80%,RSE is {:.2f}m.\".format(err_80_rec[np.argmin(rmse_rec)]))"
   ]
  },
  {
   "cell_type": "code",
   "execution_count": null,
   "metadata": {},
   "outputs": [],
   "source": []
  },
  {
   "cell_type": "code",
   "execution_count": 25,
   "metadata": {},
   "outputs": [
    {
     "name": "stdout",
     "output_type": "stream",
     "text": [
      "When k = 13, the lowest RMSE is 8.11\n",
      "When the accuracy is 80%,RSE is 4.84m\n"
     ]
    }
   ],
   "source": [
    "#Ex.3-2 knn reg. clustering find optimal k\n",
    "rmse_rec = []\n",
    "err_80_rec = []\n",
    "for k in range (1,31):\n",
    "    #knn regression  with clustering\n",
    "    result = pd.DataFrame(columns = ['error'])\n",
    "    for i in range(8):\n",
    "        #data0 = feature[feature['rsrp_cluster']==i]\n",
    "        data_sub = feature[feature['cluster']==i]\n",
    "        value = data_sub.iloc[:,:8]\n",
    "        label = data_sub.iloc[:,-1]\n",
    "        result = result.append(pd.DataFrame(knn_reg_manhattan(data_sub,k),columns = ['error']))\n",
    "    rmse = np.sqrt(np.mean(result.error))\n",
    "    a = np.sqrt(result)\n",
    "    b = np.sort(a.T).flatten()\n",
    "    err_80=b[int(len(a)*0.8)]\n",
    "    rmse_rec.append(rmse)\n",
    "    err_80_rec.append(err_80)\n",
    "print('When k = {}, the lowest RMSE is {:.2f}m.'.format(np.argmin(rmse_rec)+1,np.min(rmse_rec)))\n",
    "print(\"When the accuracy is 80%,RSE is {:.2f}m.\".format(err_80_rec[np.argmin(rmse_rec)]))"
   ]
  },
  {
   "cell_type": "code",
   "execution_count": 23,
   "metadata": {},
   "outputs": [
    {
     "name": "stdout",
     "output_type": "stream",
     "text": [
      "The RMSE is 8.18m; the 80% error is 9.75m.\n"
     ]
    }
   ],
   "source": [
    "#Ex.3-3 knn reg. clustering gets the mean RMSE for 21 random states\n",
    "rmse_rec = []\n",
    "err_80_rec = []\n",
    "for state in range(1,102,5):\n",
    "    #wknn regression with clustering\n",
    "    result  = pd.DataFrame(columns = ['error'])\n",
    "    for i in range(8):\n",
    "        data_sub = feature[feature['cluster']==i]\n",
    "        value = data_sub.iloc[:,:8]\n",
    "        label = data_sub.iloc[:,-1]\n",
    "        result = result.append(pd.DataFrame(knn_reg_manhattan(data_sub,k=13,state=state),columns = ['error']))\n",
    "    rmse = np.sqrt(np.mean(result.error))\n",
    "    rmse_rec.append(rmse)\n",
    "    #reshape b from (1,1116) to (1116)\n",
    "    a = np.sqrt(result)\n",
    "    b = np.sort(a.T).flatten()\n",
    "    err_80=b[int(len(a)*0.8)]\n",
    "    err_80_rec.append(err_80)\n",
    "    #print(\"RMSE is {:.2f}m\".format(rmse))\n",
    "    #print(\"When the accuracy is 80%,RMSE is {:.2f}m\".format(b[int(len(a)*0.8)]))\n",
    "print('knn regression clustering')\n",
    "print('The RMSE is {:.2f}m; the 80% error is {:.2f}m.'.format(np.mean(rmse_rec),np.mean(err_80_rec)))"
   ]
  },
  {
   "cell_type": "code",
   "execution_count": 24,
   "metadata": {},
   "outputs": [
    {
     "data": {
      "text/plain": [
       "Text(0, 0.5, 'error')"
      ]
     },
     "execution_count": 24,
     "metadata": {},
     "output_type": "execute_result"
    },
    {
     "data": {
      "image/png": "[encoded data removed]",
      "text/plain": [
       "<Figure size 432x288 with 1 Axes>"
      ]
     },
     "metadata": {
      "needs_background": "light"
     },
     "output_type": "display_data"
    }
   ],
   "source": [
    "#knn, plot\n",
    "plt.plot(range(1,22),rmse_rec,color='blue', linestyle='dashed', marker='o',\n",
    "             markerfacecolor='red', markersize=5,label='rmse)')\n",
    "plt.plot(range(1,22),err_80_rec,color='green', linestyle='dashed', marker='o',\n",
    "             markerfacecolor='red', markersize=5,label='rmse_80')\n",
    "plt.legend()\n",
    "plt.title('knn_reg error vs k value')\n",
    "plt.xlabel('k value')\n",
    "plt.ylabel('error')"
   ]
  },
  {
   "cell_type": "code",
   "execution_count": null,
   "metadata": {},
   "outputs": [],
   "source": []
  }
 ],
 "metadata": {
  "kernelspec": {
   "display_name": "Python 3",
   "language": "python",
   "name": "python3"
  },
  "language_info": {
   "codemirror_mode": {
    "name": "ipython",
    "version": 3
   },
   "file_extension": ".py",
   "mimetype": "text/x-python",
   "name": "python",
   "nbconvert_exporter": "python",
   "pygments_lexer": "ipython3",
   "version": "3.8.5"
  }
 },
 "nbformat": 4,
 "nbformat_minor": 4
}
