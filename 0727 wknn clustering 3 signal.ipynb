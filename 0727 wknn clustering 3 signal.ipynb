{
 "cells": [
  {
   "cell_type": "code",
   "execution_count": 1,
   "metadata": {},
   "outputs": [],
   "source": [
    "import numpy as np\n",
    "import matplotlib.pyplot as plt\n",
    "from sklearn import metrics\n",
    "import pandas as pd\n",
    "from sklearn.metrics import classification_report\n",
    "from sklearn.model_selection import train_test_split\n",
    "from sklearn.model_selection import learning_curve, GridSearchCV\n",
    "%matplotlib inline\n",
    "import math as m\n",
    "import scipy.stats\n",
    "pd.set_option(\"display.precision\", 8)\n",
    "\n",
    "def indexlist(data,):\n",
    "    '''use indeces to mark the 143 gps coordinates'''\n",
    "    checklist = data['ref_x'].unique()\n",
    "    for i in range(len(checklist)):\n",
    "        data['point_index'] = data['point_index'].replace([checklist[i]],int(i))\n",
    "    return data\n",
    "\n",
    "def correlation_coefficient(X_train):\n",
    "    '''get the correlation coefficient of the 8 APs'''\n",
    "    cc = np.corrcoef(X_train.T)\n",
    "    w_rec = []\n",
    "    for i in range(8):\n",
    "        cci = cc[i]\n",
    "        w_rec.append(1/np.dot(cci,cci.T))\n",
    "    return w_rec\n",
    "\n",
    "def cluster(rsrp,num = 3,delete_tiny = False):\n",
    "    data = pd.read_csv('rds-SRSRP.csv').set_axis([0,1,2,3,4,5,6,7], axis=1)\n",
    "    dataset = data.to_numpy()\n",
    "    cluster = dataset.argsort()[:,-num:]\n",
    "    cluster.sort()\n",
    "    cluster_sum = []\n",
    "    for row in cluster:\n",
    "        sorted_cluster = ''\n",
    "        for item in row:\n",
    "            sorted_cluster += str(item)\n",
    "        cluster_sum.append(sorted_cluster)\n",
    "    cluster_df = pd.DataFrame(cluster_sum)\n",
    "    #\n",
    "    #cluster_checklist = np.unique(cluster_sum)\n",
    "    cluster_checklist = cluster_df.value_counts().index.values\n",
    "    \n",
    "\n",
    "    #get the number of samples in each n-signal cluster\n",
    "    cluster_size = cluster_df.value_counts().values\n",
    "    #get the indeces of big clusters and tiny clusters\n",
    "    tiny_cluster_index, big_cluster_index = np.where(cluster_size<20)[0], np.where(cluster_size>=20)[0]\n",
    "    #the replace list=[[big_cluster_indeces],[np.ones(length of tiny cluster indeces)]*the first attribute of the tiny _cluster_index]\n",
    "    if delete_tiny == False:\n",
    "        try:\n",
    "            replace_list = np.append(range(len(big_cluster_index)),np.ones(len(tiny_cluster_index),dtype = int)*tiny_cluster_index[0])\n",
    "        except:\n",
    "            replace_list = range(len(big_cluster_index))\n",
    "        rsrp['cluster'] = cluster_df.replace(cluster_checklist,replace_list)\n",
    "        return rsrp\n",
    "    else:\n",
    "        '''drop tiny clusters'''\n",
    "        tiny_index = np.array([])\n",
    "        for i in range(len(big_cluster_index),len(big_cluster_index)+len(tiny_cluster_index)):\n",
    "            tiny_index = np.append(tiny_index,np.where(cluster_df==cluster_checklist[i])[0])\n",
    "        replace_list = np.append(range(len(big_cluster_index)),np.ones(len(tiny_cluster_index),dtype = int)*tiny_cluster_index[0])\n",
    "        rsrp['cluster'] = cluster_df.replace(cluster_checklist,replace_list)\n",
    "        return rsrp,tiny_index\n",
    "\n",
    "\n",
    "def wknn_manhattan(data,k=10,state=101,clustering = True):\n",
    "    '''Using Lin's idea '''\n",
    "    '''try&if: using cluster method\n",
    "       except&else: using non-cluster method\n",
    "    '''\n",
    "    if clustering == True:\n",
    "        X_train, X_test, y_train, y_test = train_test_split(data.iloc[:,:8],data.iloc[:,-2:],\n",
    "                                                        test_size=0.20,random_state=state)\n",
    "    else:\n",
    "        X_train, X_test, y_train, y_test = train_test_split(data.iloc[:,:8],data.iloc[:,-1],\n",
    "                                                        test_size=0.20,random_state=state)\n",
    "    w_rec = correlation_coefficient(X_train)\n",
    "    pred_rec = []\n",
    "    for i in range(len(y_test)):\n",
    "        try:\n",
    "            # get the cluster index\n",
    "            sample_cluster = y_test.iloc[i,0]\n",
    "            y_train_chosen = y_train[y_train['cluster'] == sample_cluster]\n",
    "            chosen_indeces = y_train_chosen.index.values\n",
    "            #get the norm-1 distance\n",
    "            weighted_distances = np.dot(np.abs(X_train.loc[chosen_indeces] - X_test.iloc[i]),w_rec)\n",
    "            nn_ids = weighted_distances.argsort()[:k]\n",
    "            nn_index = y_train_chosen.iloc[nn_ids,1]\n",
    "        except:\n",
    "            weighted_distances = np.dot(np.abs(X_train - X_test.iloc[i]),w_rec)\n",
    "            nn_ids = weighted_distances.argsort()[:k]\n",
    "            nn_index = y_train.iloc[nn_ids]\n",
    "        predi = int(scipy.stats.mode(nn_index)[0][0])\n",
    "        pred_rec.append(predi)\n",
    "    try:\n",
    "        return np.array([pred_rec]),np.array([y_test.iloc[:,-1]])\n",
    "    except:\n",
    "        return np.array([pred_rec]),np.array([y_test])  \n",
    "\n",
    "def wknn_reg_manhattan(data,k=17,state=101,clustering = True):\n",
    "    '''in wknn, get weighted average of all k nearest nighbours is better than average of only 4 top-count neighbours(n=4)'''\n",
    "    if clustering == True:\n",
    "        X_train, X_test, y_train, y_test = train_test_split(data.iloc[:,:8],data.iloc[:,-2:],\n",
    "                                                        test_size=0.20,random_state=state)\n",
    "    else:\n",
    "        X_train, X_test, y_train, y_test = train_test_split(data.iloc[:,:8],data.iloc[:,-1],\n",
    "                                                        test_size=0.20,random_state=state)\n",
    "    w_rec = correlation_coefficient(X_train)\n",
    "    test = gps.iloc[y_test.index]\n",
    "    test_ = np.array(list(zip(test.ref_x, test.ref_y)))\n",
    "    pred_rec = []\n",
    "    for i in range(len(y_test)):\n",
    "        try:\n",
    "            # get the cluster index\n",
    "            sample_cluster = y_test.iloc[i,0]\n",
    "            y_train_chosen = y_train[y_train['cluster'] == sample_cluster]\n",
    "            chosen_indeces = y_train_chosen.index.values\n",
    "            #get the norm-1 distance\n",
    "            weighted_distances = np.dot(np.abs(X_train.loc[chosen_indeces] - X_test.iloc[i]),w_rec)\n",
    "            nn_ids = weighted_distances.argsort()[:k]\n",
    "            nn_index = y_train_chosen.iloc[nn_ids,1]\n",
    "        except:\n",
    "            weighted_distances = np.dot(np.abs(X_train - X_test.iloc[i]),w_rec)\n",
    "            nn_ids = weighted_distances.argsort()[:k]\n",
    "            nn_index = y_train.iloc[nn_ids]\n",
    "        #indeces = nn_index.value_counts().index[:4]\n",
    "        #counts = nn_index.value_counts().values[:4]\n",
    "        indeces = nn_index.value_counts().index\n",
    "        counts = nn_index.value_counts().values\n",
    "        try:\n",
    "            values = []\n",
    "            for i in range(len(indeces)):\n",
    "                values.append(np.array(checklist.iloc[int(indeces[i])][0]))\n",
    "            values = np.array(values)\n",
    "            pred_i = np.dot(values.T,counts.T)/counts.sum()\n",
    "        # if the location number < 3, choose the location with the highest counts\n",
    "        except:\n",
    "            pred_i = checklist.iloc[int(indeces[0])][0]\n",
    "        pred_rec.append(pred_i)\n",
    "    pred_ = np.array(pred_rec)\n",
    "    se_rec = []\n",
    "    for i in range(len(test)):\n",
    "        lon_pred, lat_pred = pred_[i]\n",
    "        lon_, lat_ = test_[i]\n",
    "        err_lon = lon_pred - lon_\n",
    "        err_lat = lat_pred -lat_\n",
    "        err_x = err_lon*((40000/360)*1000*m.cos(lat_pred))\n",
    "        err_y = err_lat*((40000/360)*1000)\n",
    "        se = err_x**2 + err_y**2\n",
    "        se_rec.append(se)\n",
    "    if clustering == True:\n",
    "        return se_rec,y_test\n",
    "    else:\n",
    "        return se_rec\n",
    "\n",
    "def error_record(y_p,y_,checklist,se_rec):\n",
    "    lon_pred, lat_pred = checklist.iloc[y_p][0]\n",
    "    lon_, lat_ = checklist.iloc[y_][0]\n",
    "    err_lon = lon_pred - lon_\n",
    "    err_lat = lat_pred -lat_\n",
    "    err_x = err_lon*((40000/360)*1000*m.cos(lat_pred))\n",
    "    err_y = err_lat*((40000/360)*1000)\n",
    "    se = err_x**2 + err_y**2\n",
    "    se_rec.append(se)\n",
    "\n",
    "def result_report(se_rec,test,verbose = False):\n",
    "    rmse = np.sqrt(np.mean(se_rec))\n",
    "    a = np.sqrt(se_rec)\n",
    "    #reshape b from (1,1116) to (1116)\n",
    "    b = np.sort(a.T).flatten()\n",
    "    err_80 = b[int(len(a)*0.8)]\n",
    "    if verbose == True:\n",
    "        print(\"RMSE is {:.2f}m\".format(rmse))\n",
    "        print(\"When the accuracy is 80%,RMSE is {:.2f}m\".format(b[int(len(a)*0.8)]))\n",
    "    return rmse,err_80\n",
    "\n",
    "def give_result(result,checklist):\n",
    "    try:\n",
    "        se_rec = []\n",
    "        pred = np.array(result.pred)\n",
    "        test = np.array(result.test)\n",
    "        for i in range(len(result.test)):\n",
    "            y_ = int(test[i])\n",
    "            y_p = int(pred[i])\n",
    "            if y_ == y_p:\n",
    "                se = 0\n",
    "                se_rec.append(se)\n",
    "            else:\n",
    "                error_record(y_p,y_,checklist,se_rec)\n",
    "        rmse,err_80 = result_report(se_rec,test)\n",
    "    except:\n",
    "        rmse = np.sqrt(np.mean(result.error))\n",
    "        a = np.sqrt(result)\n",
    "        b = np.sort(a.T).flatten()\n",
    "        err_80=b[int(len(a)*0.8)]\n",
    "    return rmse,err_80"
   ]
  },
  {
   "cell_type": "code",
   "execution_count": 48,
   "metadata": {},
   "outputs": [],
   "source": [
    "#read files\n",
    "rsrp = pd.read_csv('rds-SRSRP.csv')\n",
    "gps = pd.read_csv(\"gps.csv\")\n",
    "gps['coordinate'] =  list(zip(gps.ref_x, gps.ref_y))\n",
    "#input indeces for each individual gps coordinates\n",
    "gps['point_index'] = gps['ref_x']\n",
    "gps = indexlist(gps)\n",
    "checklist = pd.DataFrame(gps.coordinate.unique(),columns = ['coordinate'])\n",
    "\n",
    "\n",
    "\n",
    "#cluster by the largest value\n",
    "#rsrp = cluster(rsrp,num = 1)\n",
    "\n",
    "#cluster by the 3 largest value\n",
    "\"\"\"method 1: num=3 combine all the tiny clusters into the last cluster\"\"\"\n",
    "'''\n",
    "rsrp = cluster(rsrp,num = 3,delete_tiny=False)\n",
    "feature = pd.concat([rsrp, gps['point_index']],axis = 1)\n",
    "cluster_number = len(rsrp['cluster'].unique())\n",
    "'''\n",
    "\n",
    "'''method 2: num=3 delete all the tiny clusters and reindex the dataset'''\n",
    "'''\n",
    "rsrp,tiny_index = cluster(rsrp,num = 3,delete_tiny=True)\n",
    "feature = feature = pd.concat([rsrp, gps['point_index']],axis = 1)\n",
    "feature = feature.drop(index = tiny_index\n",
    "feature = feature.reindex(range(len(feature)))\n",
    "cluster_number = len(rsrp['cluster'].unique())\n",
    "'''\n",
    "\n",
    "\n",
    "'''method 3: num=2 delete all the tiny clusters and reindex the dataset'''\n",
    "rsrp,tiny_index = cluster(rsrp,num = 2,delete_tiny=True)\n",
    "feature = feature = pd.concat([rsrp, gps['point_index']],axis = 1)\n",
    "feature = feature.drop(index = tiny_index)\n",
    "cluster_number = len(rsrp['cluster'].unique())"
   ]
  },
  {
   "cell_type": "code",
   "execution_count": 9,
   "metadata": {},
   "outputs": [
    {
     "name": "stdout",
     "output_type": "stream",
     "text": [
      "The accuracy is 40.87%\n"
     ]
    }
   ],
   "source": [
    "#Ex.0-1 wknn,k=10\n",
    "prediction,test = wknn_manhattan(feature,k=10,clustering =False)\n",
    "print('The accuracy is {:.2f}%'.format(np.mean(prediction==test)*100))"
   ]
  },
  {
   "cell_type": "code",
   "execution_count": 3,
   "metadata": {},
   "outputs": [
    {
     "name": "stdout",
     "output_type": "stream",
     "text": [
      "When k = 5, the highest accuracy is 42.31%\n",
      "When k = 7, the lowest RMSE is 9.43m\n",
      "When the accuracy is 80%,RSE is 11.79m\n"
     ]
    }
   ],
   "source": [
    "#Ex.0-2 wknn find optimal k\n",
    "acc_rec = []\n",
    "rmse_rec = []\n",
    "err_80_rec = []\n",
    "for k in range(1,21):\n",
    "    prediction,test = wknn_manhattan(feature,k=k,clustering =False)\n",
    "    df = np.append(prediction,test,axis=0)\n",
    "    result = pd.DataFrame(df.T,columns = ['pred','test'])\n",
    "    rmse,err_80 = give_result(result,checklist)\n",
    "    acc_rec.append(np.mean(result.pred==result.test))\n",
    "    rmse_rec.append(rmse)\n",
    "    err_80_rec.append(err_80)\n",
    "print('When k = {}, the highest accuracy is {:.2f}%'.format(np.argmax(acc_rec)+1,np.max(acc_rec)*100))\n",
    "print('When k = {}, the lowest RMSE is {:.2f}m'.format(np.argmin(rmse_rec)+1,np.min(rmse_rec)))\n",
    "print(\"When the accuracy is 80%,RSE is {:.2f}m\".format(err_80_rec[np.argmin(rmse_rec)]))"
   ]
  },
  {
   "cell_type": "code",
   "execution_count": 39,
   "metadata": {},
   "outputs": [
    {
     "name": "stdout",
     "output_type": "stream",
     "text": [
      "When k = 1, the accuracy is 37.85%\n"
     ]
    }
   ],
   "source": [
    "#EX.1-1 wknn with clustering,k=9\n",
    "prediction,test = wknn_manhattan(feature,k=1)\n",
    "df = np.append(prediction,test,axis=0)\n",
    "result = pd.DataFrame(df.T,columns = ['pred','test'])\n",
    "print('When k = {}, the accuracy is {:.2f}%'.format(1,np.mean(result.pred==result.test)*100))"
   ]
  },
  {
   "cell_type": "code",
   "execution_count": 40,
   "metadata": {},
   "outputs": [
    {
     "data": {
      "text/plain": [
       "5"
      ]
     },
     "execution_count": 40,
     "metadata": {},
     "output_type": "execute_result"
    }
   ],
   "source": [
    "np.argmin(rmse_rec)"
   ]
  },
  {
   "cell_type": "code",
   "execution_count": 3,
   "metadata": {},
   "outputs": [
    {
     "ename": "IndexError",
     "evalue": "index 0 is out of bounds for axis 0 with size 0",
     "output_type": "error",
     "traceback": [
      "\u001b[1;31m---------------------------------------------------------------------------\u001b[0m",
      "\u001b[1;31mIndexError\u001b[0m                                Traceback (most recent call last)",
      "\u001b[1;32m<ipython-input-3-56c2de9d0d54>\u001b[0m in \u001b[0;36m<module>\u001b[1;34m\u001b[0m\n\u001b[0;32m      4\u001b[0m \u001b[0merr_80_rec\u001b[0m \u001b[1;33m=\u001b[0m \u001b[1;33m[\u001b[0m\u001b[1;33m]\u001b[0m\u001b[1;33m\u001b[0m\u001b[1;33m\u001b[0m\u001b[0m\n\u001b[0;32m      5\u001b[0m \u001b[1;32mfor\u001b[0m \u001b[0mk\u001b[0m \u001b[1;32min\u001b[0m \u001b[0mrange\u001b[0m\u001b[1;33m(\u001b[0m\u001b[1;36m1\u001b[0m\u001b[1;33m,\u001b[0m\u001b[1;36m21\u001b[0m\u001b[1;33m)\u001b[0m\u001b[1;33m:\u001b[0m\u001b[1;33m\u001b[0m\u001b[1;33m\u001b[0m\u001b[0m\n\u001b[1;32m----> 6\u001b[1;33m     \u001b[0mprediction\u001b[0m\u001b[1;33m,\u001b[0m\u001b[0mtest\u001b[0m \u001b[1;33m=\u001b[0m \u001b[0mwknn_manhattan\u001b[0m\u001b[1;33m(\u001b[0m\u001b[0mfeature\u001b[0m\u001b[1;33m,\u001b[0m\u001b[0mk\u001b[0m\u001b[1;33m=\u001b[0m\u001b[0mk\u001b[0m\u001b[1;33m)\u001b[0m\u001b[1;33m\u001b[0m\u001b[1;33m\u001b[0m\u001b[0m\n\u001b[0m\u001b[0;32m      7\u001b[0m     \u001b[0mdf\u001b[0m \u001b[1;33m=\u001b[0m \u001b[0mnp\u001b[0m\u001b[1;33m.\u001b[0m\u001b[0mappend\u001b[0m\u001b[1;33m(\u001b[0m\u001b[0mprediction\u001b[0m\u001b[1;33m,\u001b[0m\u001b[0mtest\u001b[0m\u001b[1;33m,\u001b[0m\u001b[0maxis\u001b[0m\u001b[1;33m=\u001b[0m\u001b[1;36m0\u001b[0m\u001b[1;33m)\u001b[0m\u001b[1;33m\u001b[0m\u001b[1;33m\u001b[0m\u001b[0m\n\u001b[0;32m      8\u001b[0m     \u001b[0mresult\u001b[0m \u001b[1;33m=\u001b[0m \u001b[0mpd\u001b[0m\u001b[1;33m.\u001b[0m\u001b[0mDataFrame\u001b[0m\u001b[1;33m(\u001b[0m\u001b[0mdf\u001b[0m\u001b[1;33m.\u001b[0m\u001b[0mT\u001b[0m\u001b[1;33m,\u001b[0m\u001b[0mcolumns\u001b[0m \u001b[1;33m=\u001b[0m \u001b[1;33m[\u001b[0m\u001b[1;34m'pred'\u001b[0m\u001b[1;33m,\u001b[0m\u001b[1;34m'test'\u001b[0m\u001b[1;33m]\u001b[0m\u001b[1;33m)\u001b[0m\u001b[1;33m\u001b[0m\u001b[1;33m\u001b[0m\u001b[0m\n",
      "\u001b[1;32m<ipython-input-1-2f4796b80201>\u001b[0m in \u001b[0;36mwknn_manhattan\u001b[1;34m(data, k, state, clustering)\u001b[0m\n\u001b[0;32m     93\u001b[0m             \u001b[0mnn_ids\u001b[0m \u001b[1;33m=\u001b[0m \u001b[0mweighted_distances\u001b[0m\u001b[1;33m.\u001b[0m\u001b[0margsort\u001b[0m\u001b[1;33m(\u001b[0m\u001b[1;33m)\u001b[0m\u001b[1;33m[\u001b[0m\u001b[1;33m:\u001b[0m\u001b[0mk\u001b[0m\u001b[1;33m]\u001b[0m\u001b[1;33m\u001b[0m\u001b[1;33m\u001b[0m\u001b[0m\n\u001b[0;32m     94\u001b[0m             \u001b[0mnn_index\u001b[0m \u001b[1;33m=\u001b[0m \u001b[0my_train\u001b[0m\u001b[1;33m.\u001b[0m\u001b[0miloc\u001b[0m\u001b[1;33m[\u001b[0m\u001b[0mnn_ids\u001b[0m\u001b[1;33m]\u001b[0m\u001b[1;33m\u001b[0m\u001b[1;33m\u001b[0m\u001b[0m\n\u001b[1;32m---> 95\u001b[1;33m         \u001b[0mpredi\u001b[0m \u001b[1;33m=\u001b[0m \u001b[0mint\u001b[0m\u001b[1;33m(\u001b[0m\u001b[0mscipy\u001b[0m\u001b[1;33m.\u001b[0m\u001b[0mstats\u001b[0m\u001b[1;33m.\u001b[0m\u001b[0mmode\u001b[0m\u001b[1;33m(\u001b[0m\u001b[0mnn_index\u001b[0m\u001b[1;33m)\u001b[0m\u001b[1;33m[\u001b[0m\u001b[1;36m0\u001b[0m\u001b[1;33m]\u001b[0m\u001b[1;33m[\u001b[0m\u001b[1;36m0\u001b[0m\u001b[1;33m]\u001b[0m\u001b[1;33m)\u001b[0m\u001b[1;33m\u001b[0m\u001b[1;33m\u001b[0m\u001b[0m\n\u001b[0m\u001b[0;32m     96\u001b[0m         \u001b[0mpred_rec\u001b[0m\u001b[1;33m.\u001b[0m\u001b[0mappend\u001b[0m\u001b[1;33m(\u001b[0m\u001b[0mpredi\u001b[0m\u001b[1;33m)\u001b[0m\u001b[1;33m\u001b[0m\u001b[1;33m\u001b[0m\u001b[0m\n\u001b[0;32m     97\u001b[0m     \u001b[1;32mtry\u001b[0m\u001b[1;33m:\u001b[0m\u001b[1;33m\u001b[0m\u001b[1;33m\u001b[0m\u001b[0m\n",
      "\u001b[1;31mIndexError\u001b[0m: index 0 is out of bounds for axis 0 with size 0"
     ]
    }
   ],
   "source": [
    "#Ex.1-2 wknn clustering find optimal k\n",
    "acc_rec = []\n",
    "rmse_rec = []\n",
    "err_80_rec = []\n",
    "for k in range(1,21):\n",
    "    prediction,test = wknn_manhattan(feature,k=k)\n",
    "    df = np.append(prediction,test,axis=0)\n",
    "    result = pd.DataFrame(df.T,columns = ['pred','test'])\n",
    "    rmse,err_80 = give_result(result,checklist)\n",
    "    acc_rec.append(np.mean(result.pred==result.test))\n",
    "    rmse_rec.append(rmse)\n",
    "    err_80_rec.append(err_80)\n",
    "print('When k = {}, the highest accuracy is {:.2f}%'.format(np.argmax(acc_rec)+1,np.max(acc_rec)*100))\n",
    "print('When k = {}, the lowest RMSE is {:.2f}m'.format(np.argmin(rmse_rec)+1,np.min(rmse_rec)))\n",
    "print(\"When the accuracy is 80%,RSE is {:.2f}m\".format(err_80_rec[np.argmin(rmse_rec)]))"
   ]
  },
  {
   "cell_type": "code",
   "execution_count": 19,
   "metadata": {},
   "outputs": [
    {
     "name": "stdout",
     "output_type": "stream",
     "text": [
      "RMSE is 7.50m\n",
      "When the accuracy is 80%,RMSE is 9.03m\n"
     ]
    }
   ],
   "source": [
    "#Ex.2-1 wknn regression,k=7\n",
    "result = pd.DataFrame(wknn_reg_manhattan(feature,k=7,state=101,clustering=False),columns = ['error'])\n",
    "rmse, err_80  = give_result(result,checklist)\n",
    "print(\"RMSE is {:.2f}m\".format(rmse))\n",
    "print(\"When the accuracy is 80%,RMSE is {:.2f}m\".format(err_80))"
   ]
  },
  {
   "cell_type": "code",
   "execution_count": 8,
   "metadata": {},
   "outputs": [
    {
     "name": "stdout",
     "output_type": "stream",
     "text": [
      "When k = 9, the lowest RMSE is 7.54m\n",
      "When the accuracy is 80%,RSE is 9.28m\n"
     ]
    }
   ],
   "source": [
    "#Ex.2-2 wknn regression find optimal k\n",
    "rmse_rec = []\n",
    "err_80_rec = []\n",
    "for k in range (1,21):\n",
    "    #wknn regression with clustering\n",
    "    result = pd.DataFrame(wknn_reg_manhattan(feature,k=k,clustering=False),columns = ['error'])\n",
    "    rmse, err_80  = give_result(result,checklist)\n",
    "    rmse_rec.append(rmse)\n",
    "    err_80_rec.append(err_80)\n",
    "print('When k = {}, the lowest RMSE is {:.2f}m'.format(np.argmin(rmse_rec)+1,np.min(rmse_rec)))\n",
    "print(\"When the accuracy is 80%,RSE is {:.2f}m\".format(err_80_rec[np.argmin(rmse_rec)]))"
   ]
  },
  {
   "cell_type": "code",
   "execution_count": null,
   "metadata": {},
   "outputs": [],
   "source": [
    "# Ex.2-3 wknn regression gets the mean RMSE for 21 random states\n",
    "rmse_rec = []\n",
    "err_80_rec = []\n",
    "for state in range(1,102,5):\n",
    "    #wknn regression\n",
    "    result = pd.DataFrame(wknn_reg_manhattan(feature,k=7,state=state),columns = ['error'])\n",
    "    rmse, err_80  = give_result(result,checklist)\n",
    "    rmse_rec.append(rmse)\n",
    "    err_80_rec.append(err_80)\n",
    "    #print(\"RMSE is {:.2f}m\".format(rmse))\n",
    "    #print(\"When the accuracy is 80%,RMSE is {:.2f}m\".format(b[int(len(a)*0.8)]))\n",
    "print('The RMSE is {:.2f}m; the 80% error is {:.2f}m.'.format(np.mean(rmse_rec),np.mean(err_80_rec)))"
   ]
  },
  {
   "cell_type": "code",
   "execution_count": 12,
   "metadata": {},
   "outputs": [
    {
     "name": "stdout",
     "output_type": "stream",
     "text": [
      "When k = 8, the lowest RMSE is 7.70m\n",
      "When the accuracy is 80%,RSE is 9.32m\n"
     ]
    }
   ],
   "source": [
    "#Ex.3-2 wknn regression+clustering find optimal k\n",
    "rmse_rec = []\n",
    "err_80_rec = []\n",
    "for k in range(1,21):\n",
    "    se_rec, y_test = wknn_reg_manhattan(feature,k)\n",
    "    output = np.append([se_rec], [y_test['cluster'].values],axis=0)\n",
    "    result = pd.DataFrame(output.T,index = y_test['cluster'].index, columns = ['error','cluster'])\n",
    "    rmse,err_80 = give_result(result,checklist)\n",
    "    rmse_rec.append(rmse)\n",
    "    err_80_rec.append(err_80)\n",
    "print('When k = {}, the lowest RMSE is {:.2f}m'.format(np.argmin(rmse_rec)+1,np.min(rmse_rec)))\n",
    "print(\"When the accuracy is 80%,RSE is {:.2f}m\".format(err_80_rec[np.argmin(rmse_rec)]))"
   ]
  },
  {
   "cell_type": "code",
   "execution_count": 22,
   "metadata": {
    "scrolled": true
   },
   "outputs": [
    {
     "data": {
      "text/plain": [
       "Text(0, 0.5, 'error')"
      ]
     },
     "execution_count": 22,
     "metadata": {},
     "output_type": "execute_result"
    },
    {
     "data": {
      "image/png": "[encoded data removed]",
      "text/plain": [
       "<Figure size 432x288 with 1 Axes>"
      ]
     },
     "metadata": {
      "needs_background": "light"
     },
     "output_type": "display_data"
    }
   ],
   "source": [
    "#wknn, plot\n",
    "plt.plot(range(1,21),rmse_rec,color='blue', linestyle='dashed', marker='o',\n",
    "             markerfacecolor='red', markersize=5,label='rmse)')\n",
    "plt.plot(range(1,21),err_80_rec,color='green', linestyle='dashed', marker='o',\n",
    "             markerfacecolor='red', markersize=5,label='rse_80%')\n",
    "plt.axvline(x = 6,linestyle='dashed',color='black')\n",
    "plt.legend()\n",
    "plt.title('wknn_reg error vs k value')\n",
    "plt.xlabel('k value')\n",
    "\n",
    "plt.ylabel('error')"
   ]
  },
  {
   "cell_type": "code",
   "execution_count": 103,
   "metadata": {},
   "outputs": [
    {
     "name": "stdout",
     "output_type": "stream",
     "text": [
      "The RMSE is 8.34m; the 80% error is 9.85m.\n"
     ]
    }
   ],
   "source": [
    "#Ex.3-3 wknn reg. clustering gets the mean RMSE for 21 random states\n",
    "rmse_rec = []\n",
    "err_80_rec = []\n",
    "for state in range(1,102,5):\n",
    "    se_rec = wknn_reg_manhattan(feature,k=6,state = state)\n",
    "    output = np.append([se_rec], [y_test['cluster'].values],axis=0)\n",
    "    result = pd.DataFrame(output.T,index = y_test['cluster'].index, columns = ['error','cluster'])\n",
    "    rmse = np.sqrt(np.mean(result.error))\n",
    "    #print(\"RMSE is {:.2f}m\".format(rmse))\n",
    "    a = np.sqrt(result.error)\n",
    "    b = np.sort(a.T).flatten()\n",
    "    rse_80=b[int(len(a)*0.8)]\n",
    "    rmse_rec.append(rmse)\n",
    "    err_80_rec.append(rse_80)\n",
    "print('The RMSE is {:.2f}m; the 80% error is {:.2f}m.'.format(np.mean(rmse_rec),np.mean(err_80_rec)))"
   ]
  },
  {
   "cell_type": "code",
   "execution_count": 38,
   "metadata": {},
   "outputs": [
    {
     "data": {
      "text/plain": [
       "Text(0, 0.5, 'Longitude')"
      ]
     },
     "execution_count": 38,
     "metadata": {},
     "output_type": "execute_result"
    },
    {
     "data": {
      "image/png": "[encoded data removed]",
      "text/plain": [
       "<Figure size 432x288 with 1 Axes>"
      ]
     },
     "metadata": {
      "needs_background": "light"
     },
     "output_type": "display_data"
    }
   ],
   "source": [
    "plt.figure(figsize=(6,4))\n",
    "plt.scatter(gps.ref_y,gps.ref_x, c=feature.cluster,cmap='rainbow' , alpha = 0.6, s=10)\n",
    "plt.title('Sub Region Plotting')\n",
    "plt.xlabel('Latitude')\n",
    "plt.ylabel('Longitude')"
   ]
  },
  {
   "cell_type": "code",
   "execution_count": null,
   "metadata": {},
   "outputs": [],
   "source": []
  }
 ],
 "metadata": {
  "kernelspec": {
   "display_name": "Python 3",
   "language": "python",
   "name": "python3"
  },
  "language_info": {
   "codemirror_mode": {
    "name": "ipython",
    "version": 3
   },
   "file_extension": ".py",
   "mimetype": "text/x-python",
   "name": "python",
   "nbconvert_exporter": "python",
   "pygments_lexer": "ipython3",
   "version": "3.8.5"
  }
 },
 "nbformat": 4,
 "nbformat_minor": 4
}
