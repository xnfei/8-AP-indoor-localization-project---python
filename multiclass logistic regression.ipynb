{
 "cells": [
  {
   "cell_type": "code",
   "execution_count": 7,
   "metadata": {},
   "outputs": [],
   "source": [
    "import numpy as np\n",
    "import matplotlib.pyplot as plt\n",
    "from sklearn import metrics\n",
    "import pandas as pd\n",
    "import seaborn as sns\n",
    "from sklearn.metrics import mean_absolute_error,mean_squared_error\n",
    "from sklearn.model_selection import train_test_split\n",
    "%matplotlib inline\n",
    "import math as m\n",
    "pd.set_option(\"display.precision\", 8)\n",
    "\n",
    "# the height from sealevel where the mesurement was taken\n",
    "elevation = 117\n",
    "epoch = 20\n",
    "batch = 32\n",
    "\n",
    "def softmax(x):\n",
    "    '''softmax for multiclass classification'''\n",
    "    summary = 0\n",
    "    for i in range(len(x)):\n",
    "        summary += m.exp(x[i])\n",
    "    for j in range(len(x)):\n",
    "        x[j] = m.exp(x[j])/summary\n",
    "    return x\n",
    "\n",
    "def indexlist(data,):\n",
    "    '''use indeces to mark the 143 gps coordinates'''\n",
    "    checklist = data['ref_x'].unique()\n",
    "    for i in range(len(checklist)):\n",
    "        data['point_index'] = data['point_index'].replace([checklist[i]],i)\n",
    "    return data\n",
    "\n",
    "def convert(x):# make the shape of x\n",
    "    '''convert the indeces to one-hot matrices'''\n",
    "    y=np.zeros([len(x),143])\n",
    "    z=np.eye(143)\n",
    "    for i in range(len(x)):\n",
    "        y[i]=(z[(x[i])])\n",
    "    return y\n",
    "\n",
    "# convert latitude, longtitude to x,y,z coordinate\n",
    "def cartesian(longitude,latitude, elevation):\n",
    "    R = 6371000 + elevation  # relative to centre of the earth\n",
    "    X = R * math.cos(longitude) * math.sin(latitude)\n",
    "    Y = R * math.sin(longitude) * math.sin(latitude)\n",
    "    return X,Y\n",
    "\n",
    "def training(x_train,y_train,epoch,W,b):\n",
    "    '''train W and b for epoches'''\n",
    "    for times in range(epoch):\n",
    "        for i in range(len(x_train)):\n",
    "            y = y_train[i]\n",
    "            y_pred = softmax(np.dot(W,x_train[i]) + b)\n",
    "            loss = y_pred - y\n",
    "            W -= 2 * eta * loss.reshape(143,1)*x_train[i]\n",
    "            b -= 2 * eta * loss\n",
    "            #print(loss)\n",
    "\n",
    "def test_accuracy(x_test,y_test):\n",
    "    right = 0\n",
    "    wrong = 0\n",
    "    for j in range(len(x_test)):\n",
    "        y_ = y_test[j]\n",
    "        y_p = np.argmax(softmax(np.dot(W,x_test[j]) + b))\n",
    "        if y_ == y_p:\n",
    "            right +=1\n",
    "        else:\n",
    "            wrong +=1\n",
    "            #print(\"{} is misrecognized as {}\".format(y_test[j],y_p))\n",
    "    accuracy = right/(right+wrong)\n",
    "    print(\"the accuracy rate is= {}\".format(accuracy))\n",
    "    return accuracy\n",
    "\n",
    "\n",
    "def main(x_train,y_train,epoch,W,b,x_test,y_test):\n",
    "    last_acc = 0\n",
    "    current_acc = 0\n",
    "    i=0\n",
    "    bad = 0\n",
    "    active = True\n",
    "    acc_list = []\n",
    "    acc_list.append(current_acc)\n",
    "    while active:\n",
    "        \n",
    "        if current_acc <= last_acc:\n",
    "            bad += 1\n",
    "        else:\n",
    "            bad = 0\n",
    "        i+=1\n",
    "        training(x_train,y_train,epoch,W,b)\n",
    "        print('After {} epoches,'.format(epoch*i))\n",
    "        last_acc = max(acc_list)\n",
    "        current_acc = test_accuracy(x_test,y_test)\n",
    "        acc_list.append(current_acc)\n",
    "        if bad >= 5:\n",
    "            active = False\n",
    "    return W,b\n"
   ]
  },
  {
   "cell_type": "code",
   "execution_count": 11,
   "metadata": {},
   "outputs": [],
   "source": [
    "#read files\n",
    "rsrp = pd.read_csv('rds-SRSRP.csv')\n",
    "gps = pd.read_csv(\"gps.csv\")\n",
    "#combine ref_x and ref_y\n",
    "gps['coordinate'] =  list(zip(gps.ref_x, gps.ref_y))\n",
    "#input indeces for each individual gps coordinates\n",
    "gps['point_index'] = gps['ref_x']\n",
    "gps = indexlist(gps)\n",
    "checklist = pd.DataFrame(gps.coordinate.unique(),columns = ['coordinate'])\n",
    "#regularization\n",
    "rsrp_reg = (rsrp - rsrp.min().min())/(rsrp.max().max()-rsrp.min().min())"
   ]
  },
  {
   "cell_type": "code",
   "execution_count": 5,
   "metadata": {},
   "outputs": [],
   "source": [
    "X_train, X_test, y_train, y_test = train_test_split(rsrp_reg, gps[['point_index']],\n",
    "                                                        test_size=0.20,random_state=101)\n",
    "\n",
    "#set initial parameters\n",
    "W = np.zeros((143,8))\n",
    "b = np.zeros(143)\n",
    "eta = 2"
   ]
  },
  {
   "cell_type": "code",
   "execution_count": 6,
   "metadata": {},
   "outputs": [],
   "source": [
    "X_train,y_train = X_train.to_numpy(),y_train.to_numpy()\n",
    "X_test,y_test = X_test.to_numpy(),y_test.to_numpy()\n",
    "#convert y_train into the shape of (,143)\n",
    "y_train = y_train.astype(int)\n",
    "y_train = np.array(y_train)\n",
    "y_train = convert(y_train)"
   ]
  },
  {
   "cell_type": "code",
   "execution_count": null,
   "metadata": {},
   "outputs": [],
   "source": []
  },
  {
   "cell_type": "code",
   "execution_count": 7,
   "metadata": {
    "scrolled": true
   },
   "outputs": [
    {
     "name": "stdout",
     "output_type": "stream",
     "text": [
      "After 20 epoches,\n",
      "the accuracy rate is= 0.19641255605381167\n",
      "After 40 epoches,\n",
      "the accuracy rate is= 0.2367713004484305\n",
      "After 60 epoches,\n",
      "the accuracy rate is= 0.24663677130044842\n",
      "After 80 epoches,\n",
      "the accuracy rate is= 0.25112107623318386\n",
      "After 100 epoches,\n",
      "the accuracy rate is= 0.25650224215246636\n",
      "After 120 epoches,\n",
      "the accuracy rate is= 0.2556053811659193\n",
      "After 140 epoches,\n",
      "the accuracy rate is= 0.2591928251121076\n",
      "After 160 epoches,\n",
      "the accuracy rate is= 0.2645739910313901\n",
      "After 180 epoches,\n",
      "the accuracy rate is= 0.2645739910313901\n",
      "After 200 epoches,\n",
      "the accuracy rate is= 0.2663677130044843\n",
      "After 220 epoches,\n",
      "the accuracy rate is= 0.2672645739910314\n",
      "After 240 epoches,\n",
      "the accuracy rate is= 0.26547085201793724\n",
      "After 260 epoches,\n",
      "the accuracy rate is= 0.2645739910313901\n",
      "After 280 epoches,\n",
      "the accuracy rate is= 0.262780269058296\n",
      "After 300 epoches,\n",
      "the accuracy rate is= 0.26547085201793724\n"
     ]
    }
   ],
   "source": [
    "iteration,acc_list = main(X_train,y_train,epoch,W,b,X_test,y_test)"
   ]
  },
  {
   "cell_type": "code",
   "execution_count": 12,
   "metadata": {},
   "outputs": [
    {
     "name": "stdout",
     "output_type": "stream",
     "text": [
      "RMSE is 11.15m\n",
      "When the accuracy is 80%,RMSE is 14.47m\n"
     ]
    }
   ],
   "source": [
    "se_rec = []\n",
    "#pred = np.array(prediction)\n",
    "test = np.array(y_test)\n",
    "for i in range(len(test)):\n",
    "    y_ = int(test[i])\n",
    "    y_p = np.argmax(softmax(np.dot(W,X_test[i]) + b))\n",
    "    if y_ == y_p:\n",
    "        se = 0\n",
    "        se_rec.append(se)\n",
    "    else:\n",
    "        lon_pred, lat_pred = checklist.iloc[y_p][0]\n",
    "        lon_, lat_ = checklist.iloc[y_][0]\n",
    "        err_lon = lon_pred - lon_\n",
    "        err_lat = lat_pred -lat_\n",
    "        err_x = err_lon*((40000/360)*1000*m.cos(lat_pred))\n",
    "        err_y = err_lat*((40000/360)*1000)\n",
    "        se = err_x**2 + err_y**2\n",
    "        se_rec.append(se)\n",
    "rmse = np.sqrt(sum(se_rec)/len(test))\n",
    "print(\"RMSE is {:.2f}m\".format(rmse))\n",
    "a = np.sqrt(se_rec)\n",
    "b = np.sort(a)\n",
    "print(\"When the accuracy is 80%,RMSE is {:.2f}m\".format(b[int(len(a)*0.8)]))"
   ]
  },
  {
   "cell_type": "code",
   "execution_count": null,
   "metadata": {},
   "outputs": [],
   "source": []
  },
  {
   "cell_type": "code",
   "execution_count": null,
   "metadata": {},
   "outputs": [],
   "source": []
  },
  {
   "cell_type": "code",
   "execution_count": 4,
   "metadata": {},
   "outputs": [],
   "source": [
    "#read files\n",
    "rsrp = pd.read_csv('rds-SRSRP.csv')\n",
    "gps = pd.read_csv(\"gps.csv\")\n",
    "#combine ref_x and ref_y\n",
    "gps['coordinate'] =  list(zip(gps.ref_x, gps.ref_y))\n",
    "#input indeces for each individual gps coordinates\n",
    "gps['point_index'] = gps['ref_x']\n",
    "gps = indexlist(gps)\n",
    "#regularization\n",
    "rsrp_reg = (rsrp - rsrp.min().min())/(rsrp.max().max()-rsrp.min().min())\n",
    "gps_reg = gps\n",
    "#gps_reg['point_index'] = gps['point_index']/gps['point_index'].max()\n",
    "\n",
    "#combine rsrp and point index and then split\n",
    "result = pd.concat([gps_reg['point_index'], rsrp_reg], axis=1, join='inner')\n",
    "train = result.sample(frac = 0.8)\n",
    "test = result.drop(train.index)\n",
    "x_train,y_train = (train.drop(['point_index'],axis=1),train['point_index'])\n",
    "x_test,y_test = (test.drop(['point_index'],axis=1),test['point_index'])\n",
    "#convert to np.array\n",
    "x_train,y_train = x_train.to_numpy(),y_train.to_numpy()\n",
    "x_test,y_test = x_test.to_numpy(),y_test.to_numpy()\n",
    "#convert y_train into the shape of (,143)\n",
    "y_train = y_train.astype(int)\n",
    "y_train = np.array(y_train)\n",
    "y_train = convert(y_train)"
   ]
  },
  {
   "cell_type": "code",
   "execution_count": 5,
   "metadata": {},
   "outputs": [],
   "source": [
    "#set initial parameters\n",
    "W = np.zeros((143,8))\n",
    "b = np.zeros(143)\n",
    "eta = 2"
   ]
  },
  {
   "cell_type": "code",
   "execution_count": 8,
   "metadata": {
    "scrolled": true
   },
   "outputs": [
    {
     "name": "stdout",
     "output_type": "stream",
     "text": [
      "After 20 epoches,\n",
      "the accuracy rate is= 0.29084380610412924\n",
      "After 40 epoches,\n",
      "the accuracy rate is= 0.2926391382405745\n",
      "After 60 epoches,\n",
      "the accuracy rate is= 0.3007181328545781\n",
      "After 80 epoches,\n",
      "the accuracy rate is= 0.30610412926391384\n",
      "After 100 epoches,\n",
      "the accuracy rate is= 0.30610412926391384\n",
      "After 120 epoches,\n",
      "the accuracy rate is= 0.30430879712746856\n",
      "After 140 epoches,\n",
      "the accuracy rate is= 0.3052064631956912\n",
      "After 160 epoches,\n",
      "the accuracy rate is= 0.3052064631956912\n",
      "After 180 epoches,\n",
      "the accuracy rate is= 0.3052064631956912\n",
      "After 200 epoches,\n",
      "the accuracy rate is= 0.30430879712746856\n"
     ]
    }
   ],
   "source": [
    "W,b = main(x_train,y_train,epoch,W,b,x_test,y_test)"
   ]
  },
  {
   "cell_type": "code",
   "execution_count": null,
   "metadata": {},
   "outputs": [],
   "source": [
    "def error(x_test,y_test):\n",
    "    for j in range(len(x_test)):\n",
    "        y_ = y_test[j]\n",
    "        y_p = np.argmax(softmax(np.dot(W,x_test[j]) + b))\n",
    "        if y_ == y_p:\n",
    "            right +=1\n",
    "        else:\n",
    "            wrong +=1\n",
    "            #print(\"{} is misrecognized as {}\".format(y_test[j],y_p))\n",
    "    accuracy = right/(right+wrong)\n",
    "    print(\"the accuracy rate is= {}\".format(accuracy))\n",
    "    return accuracy"
   ]
  },
  {
   "cell_type": "code",
   "execution_count": 9,
   "metadata": {},
   "outputs": [
    {
     "data": {
      "text/plain": [
       "array([  0.,   0.,   0., ..., 142., 142., 142.])"
      ]
     },
     "execution_count": 9,
     "metadata": {},
     "output_type": "execute_result"
    }
   ],
   "source": [
    "y_test"
   ]
  },
  {
   "cell_type": "code",
   "execution_count": 10,
   "metadata": {},
   "outputs": [
    {
     "ename": "AttributeError",
     "evalue": "'DataFrame' object has no attribute 'coordiante'",
     "output_type": "error",
     "traceback": [
      "\u001b[1;31m---------------------------------------------------------------------------\u001b[0m",
      "\u001b[1;31mAttributeError\u001b[0m                            Traceback (most recent call last)",
      "\u001b[1;32m<ipython-input-10-b4a1ee0fb625>\u001b[0m in \u001b[0;36m<module>\u001b[1;34m\u001b[0m\n\u001b[1;32m----> 1\u001b[1;33m \u001b[0mchecklist\u001b[0m \u001b[1;33m=\u001b[0m \u001b[0mpd\u001b[0m\u001b[1;33m.\u001b[0m\u001b[0mDataFrame\u001b[0m\u001b[1;33m(\u001b[0m\u001b[0mgps\u001b[0m\u001b[1;33m.\u001b[0m\u001b[0mcoordiante\u001b[0m\u001b[1;33m.\u001b[0m\u001b[0munique\u001b[0m\u001b[1;33m(\u001b[0m\u001b[1;33m)\u001b[0m\u001b[1;33m,\u001b[0m\u001b[0mcolumns\u001b[0m \u001b[1;33m=\u001b[0m \u001b[1;33m[\u001b[0m\u001b[1;34m'coordinate'\u001b[0m\u001b[1;33m]\u001b[0m\u001b[1;33m)\u001b[0m\u001b[1;33m\u001b[0m\u001b[1;33m\u001b[0m\u001b[0m\n\u001b[0m",
      "\u001b[1;32mC:\\anaconda\\lib\\site-packages\\pandas\\core\\generic.py\u001b[0m in \u001b[0;36m__getattr__\u001b[1;34m(self, name)\u001b[0m\n\u001b[0;32m   5137\u001b[0m             \u001b[1;32mif\u001b[0m \u001b[0mself\u001b[0m\u001b[1;33m.\u001b[0m\u001b[0m_info_axis\u001b[0m\u001b[1;33m.\u001b[0m\u001b[0m_can_hold_identifiers_and_holds_name\u001b[0m\u001b[1;33m(\u001b[0m\u001b[0mname\u001b[0m\u001b[1;33m)\u001b[0m\u001b[1;33m:\u001b[0m\u001b[1;33m\u001b[0m\u001b[1;33m\u001b[0m\u001b[0m\n\u001b[0;32m   5138\u001b[0m                 \u001b[1;32mreturn\u001b[0m \u001b[0mself\u001b[0m\u001b[1;33m[\u001b[0m\u001b[0mname\u001b[0m\u001b[1;33m]\u001b[0m\u001b[1;33m\u001b[0m\u001b[1;33m\u001b[0m\u001b[0m\n\u001b[1;32m-> 5139\u001b[1;33m             \u001b[1;32mreturn\u001b[0m \u001b[0mobject\u001b[0m\u001b[1;33m.\u001b[0m\u001b[0m__getattribute__\u001b[0m\u001b[1;33m(\u001b[0m\u001b[0mself\u001b[0m\u001b[1;33m,\u001b[0m \u001b[0mname\u001b[0m\u001b[1;33m)\u001b[0m\u001b[1;33m\u001b[0m\u001b[1;33m\u001b[0m\u001b[0m\n\u001b[0m\u001b[0;32m   5140\u001b[0m \u001b[1;33m\u001b[0m\u001b[0m\n\u001b[0;32m   5141\u001b[0m     \u001b[1;32mdef\u001b[0m \u001b[0m__setattr__\u001b[0m\u001b[1;33m(\u001b[0m\u001b[0mself\u001b[0m\u001b[1;33m,\u001b[0m \u001b[0mname\u001b[0m\u001b[1;33m:\u001b[0m \u001b[0mstr\u001b[0m\u001b[1;33m,\u001b[0m \u001b[0mvalue\u001b[0m\u001b[1;33m)\u001b[0m \u001b[1;33m->\u001b[0m \u001b[1;32mNone\u001b[0m\u001b[1;33m:\u001b[0m\u001b[1;33m\u001b[0m\u001b[1;33m\u001b[0m\u001b[0m\n",
      "\u001b[1;31mAttributeError\u001b[0m: 'DataFrame' object has no attribute 'coordiante'"
     ]
    }
   ],
   "source": [
    "checklist = pd.DataFrame(gps.coordiante.unique(),columns = ['coordinate'])"
   ]
  },
  {
   "cell_type": "code",
   "execution_count": 60,
   "metadata": {},
   "outputs": [],
   "source": [
    "se_rec = []\n",
    "for i in range(len(x_test)):\n",
    "    y_ = int(y_test[i])\n",
    "    y_p = int(np.argmax(softmax(np.dot(W,x_test[i]) + b)))\n",
    "    if y_ == y_p:\n",
    "        se = 0\n",
    "        se_rec.append(se)\n",
    "    else:\n",
    "        lon_pred, lat_pred = checklist.iloc[y_p][0]\n",
    "        lon_, lat_ = checklist.iloc[y_][0]\n",
    "        err_lon = lon_pred - lon_\n",
    "        err_lat = lat_pred -lat_\n",
    "        err_x = err_lon*((40000/360)*1000*m.cos(lat_pred))\n",
    "        err_y = err_lat*((40000/360)*1000)\n",
    "        se = err_x**2 + err_y**2\n",
    "        se_rec.append(se)"
   ]
  },
  {
   "cell_type": "code",
   "execution_count": 65,
   "metadata": {},
   "outputs": [],
   "source": [
    "rmse = np.sqrt(sum(se_rec)/len(x_test))"
   ]
  },
  {
   "cell_type": "code",
   "execution_count": 66,
   "metadata": {},
   "outputs": [
    {
     "data": {
      "text/plain": [
       "11.291618117193384"
      ]
     },
     "execution_count": 66,
     "metadata": {},
     "output_type": "execute_result"
    }
   ],
   "source": [
    "rmse"
   ]
  },
  {
   "cell_type": "code",
   "execution_count": 73,
   "metadata": {},
   "outputs": [],
   "source": [
    "a = np.sqrt(se_rec)\n",
    "b = np.sort(a)"
   ]
  },
  {
   "cell_type": "code",
   "execution_count": 69,
   "metadata": {},
   "outputs": [
    {
     "data": {
      "text/plain": [
       "24.242498568174838"
      ]
     },
     "execution_count": 69,
     "metadata": {},
     "output_type": "execute_result"
    }
   ],
   "source": [
    "a.max()*0.3"
   ]
  },
  {
   "cell_type": "code",
   "execution_count": 76,
   "metadata": {},
   "outputs": [
    {
     "data": {
      "text/plain": [
       "12.667347021803259"
      ]
     },
     "execution_count": 76,
     "metadata": {},
     "output_type": "execute_result"
    }
   ],
   "source": [
    "b[int(len(a)*0.8)]"
   ]
  },
  {
   "cell_type": "code",
   "execution_count": 75,
   "metadata": {},
   "outputs": [
    {
     "data": {
      "text/plain": [
       "array([ 0.        ,  0.        ,  0.        , ..., 76.21781724,\n",
       "       78.31955124, 80.80832856])"
      ]
     },
     "execution_count": 75,
     "metadata": {},
     "output_type": "execute_result"
    }
   ],
   "source": [
    "b"
   ]
  },
  {
   "cell_type": "code",
   "execution_count": null,
   "metadata": {},
   "outputs": [],
   "source": []
  }
 ],
 "metadata": {
  "kernelspec": {
   "display_name": "Python 3",
   "language": "python",
   "name": "python3"
  },
  "language_info": {
   "codemirror_mode": {
    "name": "ipython",
    "version": 3
   },
   "file_extension": ".py",
   "mimetype": "text/x-python",
   "name": "python",
   "nbconvert_exporter": "python",
   "pygments_lexer": "ipython3",
   "version": "3.8.5"
  }
 },
 "nbformat": 4,
 "nbformat_minor": 4
}
