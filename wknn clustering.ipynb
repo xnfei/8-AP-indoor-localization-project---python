{
 "cells": [
  {
   "cell_type": "code",
   "execution_count": 1,
   "metadata": {},
   "outputs": [],
   "source": [
    "import numpy as np\n",
    "import matplotlib.pyplot as plt\n",
    "from sklearn import metrics\n",
    "import pandas as pd\n",
    "from sklearn.metrics import classification_report\n",
    "from sklearn.model_selection import train_test_split\n",
    "from sklearn.model_selection import learning_curve, GridSearchCV\n",
    "%matplotlib inline\n",
    "import math as m\n",
    "import scipy.stats\n",
    "pd.set_option(\"display.precision\", 8)\n",
    "\n",
    "def indexlist(data,):\n",
    "    '''use indeces to mark the 143 gps coordinates'''\n",
    "    checklist = data['ref_x'].unique()\n",
    "    for i in range(len(checklist)):\n",
    "        data['point_index'] = data['point_index'].replace([checklist[i]],int(i))\n",
    "    return data\n",
    "\n",
    "def wknn_manhattan(data,k=10,state=101):\n",
    "    X_train, X_test, y_train, y_test = train_test_split(data.iloc[:,:8],data.iloc[:,-1],\n",
    "                                                        test_size=0.20,random_state=state)\n",
    "    pred_rec = []\n",
    "    for i in range(len(y_test)):\n",
    "        #get the norm-1 distance\n",
    "        weighted_distances = np.dot(np.abs(X_train - X_test.iloc[i]),w_rec)\n",
    "        nn_ids = weighted_distances.argsort()[:k]\n",
    "        nn_index = y_train.iloc[nn_ids]\n",
    "        predi = int(scipy.stats.mode(nn_index)[0][0])\n",
    "        pred_rec.append(predi)\n",
    "    return np.array([pred_rec]),np.array([y_test])    \n",
    "\n",
    "def wknn_reg_manhattan(data,k=17,state=101):\n",
    "    X_train, X_test, y_train, y_test = train_test_split(data.iloc[:,:8],data.iloc[:,-1],\n",
    "                                                        test_size=0.20,random_state=state)\n",
    "    test = gps.iloc[y_test.index]\n",
    "    test_ = np.array(list(zip(test.ref_x, test.ref_y)))\n",
    "    pred_rec = []\n",
    "    for i in range(len(y_test)):\n",
    "        #get the norm-1 distance\n",
    "        weighted_distances = np.dot(np.abs(X_train - X_test.iloc[i]),w_rec)\n",
    "        nn_ids = weighted_distances.argsort()[:k]\n",
    "        nn_index = y_train.iloc[nn_ids]\n",
    "        indeces = nn_index.value_counts().index[:4]\n",
    "        counts = nn_index.value_counts().values[:4]\n",
    "        try:\n",
    "            values = []\n",
    "            for i in range(4):\n",
    "                values.append(np.array(checklist.iloc[int(indeces[i])][0]))\n",
    "            values = np.array(values)\n",
    "            pred_i = np.dot(values.T,counts.T)/counts.sum()\n",
    "        # if the location number < 3, choose the location with the highest counts\n",
    "        except:\n",
    "            pred_i = checklist.iloc[int(indeces[0])][0]\n",
    "        pred_rec.append(pred_i)\n",
    "    pred_ = np.array(pred_rec)\n",
    "    se_rec = []\n",
    "    for i in range(len(test)):\n",
    "        lon_pred, lat_pred = pred_[i]\n",
    "        lon_, lat_ = test_[i]\n",
    "        err_lon = lon_pred - lon_\n",
    "        err_lat = lat_pred -lat_\n",
    "        err_x = err_lon*((40000/360)*1000*m.cos(lat_pred))\n",
    "        err_y = err_lat*((40000/360)*1000)\n",
    "        se = err_x**2 + err_y**2\n",
    "        se_rec.append(se)\n",
    "    return se_rec\n",
    "\n",
    "def error_record(y_p,y_,checklist,se_rec):\n",
    "    lon_pred, lat_pred = checklist.iloc[y_p][0]\n",
    "    lon_, lat_ = checklist.iloc[y_][0]\n",
    "    err_lon = lon_pred - lon_\n",
    "    err_lat = lat_pred -lat_\n",
    "    err_x = err_lon*((40000/360)*1000*m.cos(lat_pred))\n",
    "    err_y = err_lat*((40000/360)*1000)\n",
    "    se = err_x**2 + err_y**2\n",
    "    se_rec.append(se)\n",
    "\n",
    "def result_report(se_rec,test):\n",
    "    rmse = np.sqrt(sum(se_rec)/len(test))\n",
    "    print(\"RMSE is {:.2f}m\".format(rmse))\n",
    "    a = np.sqrt(se_rec)\n",
    "    #reshape b from (1,1116) to (1116)\n",
    "    b = np.sort(a.T).flatten()\n",
    "    print(\"When the accuracy is 80%,RMSE is {:.2f}m\".format(b[int(len(a)*0.8)]))\n",
    "\n",
    "def give_result():\n",
    "    se_rec = []\n",
    "    pred = np.array(result.pred)\n",
    "    test = np.array(result.test)\n",
    "    for i in range(len(result.test)):\n",
    "        y_ = int(test[i])\n",
    "        y_p = int(pred[i])\n",
    "        if y_ == y_p:\n",
    "            se = 0\n",
    "            se_rec.append(se)\n",
    "        else:\n",
    "            error_record(y_p,y_,checklist,se_rec)\n",
    "    result_report(se_rec,test)"
   ]
  },
  {
   "cell_type": "code",
   "execution_count": 2,
   "metadata": {},
   "outputs": [],
   "source": [
    "#read files\n",
    "rsrp = pd.read_csv('rds-SRSRP.csv')\n",
    "gps = pd.read_csv(\"gps.csv\")\n",
    "gps['coordinate'] =  list(zip(gps.ref_x, gps.ref_y))\n",
    "#input indeces for each individual gps coordinates\n",
    "gps['point_index'] = gps['ref_x']\n",
    "gps = indexlist(gps)\n",
    "checklist = pd.DataFrame(gps.coordinate.unique(),columns = ['coordinate'])\n",
    "X_train, X_test, y_train, y_test = train_test_split(rsrp,gps['point_index'],\n",
    "                                                        test_size=0.20,random_state=101)\n",
    "\n",
    "# get the correlation coefficient of the 8 APs\n",
    "cc = np.corrcoef(X_train.T)\n",
    "w_rec = []\n",
    "for i in range(8):\n",
    "    cci = cc[i]\n",
    "    w_rec.append(1/np.dot(cci,cci.T))\n",
    "\n",
    "#cluster by the largest value\n",
    "data = pd.read_csv('rds-SRSRP.csv').set_axis([0,1,2,3,4,5,6,7], axis=1)\n",
    "rsrp['cluster'] = data.idxmax(axis = 1).values\n",
    "feature = pd.concat([rsrp, gps['point_index']],axis = 1)"
   ]
  },
  {
   "cell_type": "code",
   "execution_count": 14,
   "metadata": {},
   "outputs": [
    {
     "name": "stdout",
     "output_type": "stream",
     "text": [
      "When k = 1, the accuracy is 41.13%\n",
      "RMSE is 9.52m\n",
      "When the accuracy is 80%,RMSE is 12.28m\n"
     ]
    }
   ],
   "source": [
    "#wknn with clustering\n",
    "result = pd.DataFrame(columns = ['pred','test'])\n",
    "for i in range(8):\n",
    "    data_sub = feature[feature['cluster']==i]\n",
    "    value = data_sub.iloc[:,:8]\n",
    "    label = data_sub.iloc[:,-1]\n",
    "    prediction,test = wknn_manhattan(data_sub,k=1)\n",
    "    df = np.append(prediction,test,axis=0)\n",
    "    result = result.append(pd.DataFrame(df.T,columns = ['pred','test']))\n",
    "print('When k = {}, the accuracy is {:.2f}%'.format(1,np.mean(result.pred==result.test)*100))\n",
    "give_result()"
   ]
  },
  {
   "cell_type": "code",
   "execution_count": 22,
   "metadata": {},
   "outputs": [
    {
     "name": "stdout",
     "output_type": "stream",
     "text": [
      "When k = 1, the highest accuracy is 41.13%\n"
     ]
    }
   ],
   "source": [
    "#wknn with clustering find optimal k\n",
    "acc_rec = []\n",
    "for j in range(1,21):\n",
    "    result = pd.DataFrame(columns = ['pred','test'])\n",
    "    for i in range(8):\n",
    "        data_sub = feature[feature['cluster']==i]\n",
    "        value = data_sub.iloc[:,:8]\n",
    "        label = data_sub.iloc[:,-1]\n",
    "        prediction,test = wknn_manhattan(data_sub,k=j)\n",
    "        df = np.append(prediction,test,axis=0)\n",
    "        result = result.append(pd.DataFrame(df.T,columns = ['pred','test']))\n",
    "    acc_rec.append(np.mean(result.pred==result.test))\n",
    "print('When k = {}, the highest accuracy is {:.2f}%'.format(np.argmax(acc_rec)+1,np.max(acc_rec)*100))"
   ]
  },
  {
   "cell_type": "code",
   "execution_count": 12,
   "metadata": {},
   "outputs": [
    {
     "name": "stdout",
     "output_type": "stream",
     "text": [
      "RMSE is 3.63m\n",
      "When the accuracy is 80%,RMSE is 9.76m\n"
     ]
    }
   ],
   "source": [
    "#wknn regression with clustering\n",
    "result  = pd.DataFrame(columns = ['error'])\n",
    "for i in range(8):\n",
    "    #data0 = feature[feature['rsrp_cluster']==i]\n",
    "    data_sub = feature[feature['cluster']==i]\n",
    "    value = data_sub.iloc[:,:8]\n",
    "    label = data_sub.iloc[:,-1]\n",
    "    result = result.append(pd.DataFrame(wknn_reg_manhattan(data_sub),columns = ['error']))\n",
    "rmse = np.sqrt(result.sum()/len(rsrp))[0]\n",
    "print(\"RMSE is {:.2f}m\".format(rmse))\n",
    "a = np.sqrt(result)\n",
    "#reshape b from (1,1116) to (1116)\n",
    "b = np.sort(a.T).flatten()\n",
    "print(\"When the accuracy is 80%,RMSE is {:.2f}m\".format(b[int(len(a)*0.8)]))"
   ]
  },
  {
   "cell_type": "code",
   "execution_count": 118,
   "metadata": {},
   "outputs": [
    {
     "name": "stdout",
     "output_type": "stream",
     "text": [
      "When k = 15, the lowest RMSE is 3.57\n",
      "When the accuracy is 80%,RSE is 9.85m\n"
     ]
    }
   ],
   "source": [
    "#wknn regression find optimal k\n",
    "rmse_rec = []\n",
    "rse_80_rec = []\n",
    "for k in range (1,31):\n",
    "    #wknn regression with clustering\n",
    "    result  = pd.DataFrame(columns = ['error'])\n",
    "    for i in range(8):\n",
    "        #data0 = feature[feature['rsrp_cluster']==i]\n",
    "        data_sub = feature[feature['cluster']==i]\n",
    "        value = data_sub.iloc[:,:8]\n",
    "        label = data_sub.iloc[:,-1]\n",
    "        result = result.append(pd.DataFrame(wknn_reg_manhattan(data_sub,k),columns = ['error']))\n",
    "    rmse = np.sqrt(result.sum()/len(rsrp))[0]\n",
    "    #print(\"RMSE is {:.2f}m\".format(rmse))\n",
    "    a = np.sqrt(result)\n",
    "    b = np.sort(a.T).flatten()\n",
    "    rse_80=b[int(len(a)*0.8)]\n",
    "    rmse_rec.append(rmse)\n",
    "    rse_80_rec.append(rse_80)\n",
    "    #print(\"When the accuracy is 80%,RMSE is {:.2f}m\".format(rmse_80))\n",
    "print('When k = {}, the lowest RMSE is {:.2f}'.format(np.argmin(rmse_rec)+1,np.min(rmse_rec)))\n",
    "print(\"When the accuracy is 80%,RSE is {:.2f}m\".format(rse_80_rec[np.argmin(rmse_rec)]))"
   ]
  },
  {
   "cell_type": "code",
   "execution_count": 125,
   "metadata": {},
   "outputs": [
    {
     "data": {
      "text/plain": [
       "Text(0, 0.5, 'error')"
      ]
     },
     "execution_count": 125,
     "metadata": {},
     "output_type": "execute_result"
    },
    {
     "data": {
      "image/png": "[encoded data removed]",
      "text/plain": [
       "<Figure size 432x288 with 1 Axes>"
      ]
     },
     "metadata": {
      "needs_background": "light"
     },
     "output_type": "display_data"
    }
   ],
   "source": [
    "#wknn, plot\n",
    "plt.plot(range(1,31),rmse_rec,color='blue', linestyle='dashed', marker='o',\n",
    "             markerfacecolor='red', markersize=5,label='rmse)')\n",
    "plt.plot(range(1,31),rmse_80_rec,color='green', linestyle='dashed', marker='o',\n",
    "             markerfacecolor='red', markersize=5,label='rse_80%')\n",
    "plt.axvline(x = 15,linestyle='dashed',color='black')\n",
    "plt.legend()\n",
    "plt.title('wknn_reg error vs k value')\n",
    "plt.xlabel('k value')\n",
    "\n",
    "plt.ylabel('error')"
   ]
  },
  {
   "cell_type": "code",
   "execution_count": 8,
   "metadata": {},
   "outputs": [],
   "source": [
    "# wknn reg. clustering gets the mean RMSE for 20 random states\n",
    "rmse_rec = []\n",
    "rse_80_rec = []\n",
    "for state in range(1,102,5):\n",
    "    #wknn regression with clustering\n",
    "    result  = pd.DataFrame(columns = ['error'])\n",
    "    for i in range(8):\n",
    "        data_sub = feature[feature['cluster']==i]\n",
    "        value = data_sub.iloc[:,:8]\n",
    "        label = data_sub.iloc[:,-1]\n",
    "        result = result.append(pd.DataFrame(wknn_reg_manhattan(data_sub,k=15,state=state),columns = ['error']))\n",
    "    rmse = np.sqrt(result.sum()/len(rsrp))[0]\n",
    "    rmse_rec.append(rmse)\n",
    "    #reshape b from (1,1116) to (1116)\n",
    "    a = np.sqrt(result)\n",
    "    b = np.sort(a.T).flatten()\n",
    "    rse_80=b[int(len(a)*0.8)]\n",
    "    rse_80_rec.append(rse_80)\n",
    "    #print(\"RMSE is {:.2f}m\".format(rmse))\n",
    "    #print(\"When the accuracy is 80%,RMSE is {:.2f}m\".format(b[int(len(a)*0.8)]))\n"
   ]
  },
  {
   "cell_type": "code",
   "execution_count": 10,
   "metadata": {},
   "outputs": [
    {
     "data": {
      "text/plain": [
       "9.69438811383905"
      ]
     },
     "execution_count": 10,
     "metadata": {},
     "output_type": "execute_result"
    }
   ],
   "source": [
    "np.mean(rmse_rec)"
   ]
  },
  {
   "cell_type": "code",
   "execution_count": 9,
   "metadata": {},
   "outputs": [
    {
     "data": {
      "text/plain": [
       "9.69438811383905"
      ]
     },
     "execution_count": 9,
     "metadata": {},
     "output_type": "execute_result"
    }
   ],
   "source": [
    "np.mean(rse_80_rec)"
   ]
  },
  {
   "cell_type": "code",
   "execution_count": null,
   "metadata": {},
   "outputs": [],
   "source": []
  }
 ],
 "metadata": {
  "kernelspec": {
   "display_name": "Python 3",
   "language": "python",
   "name": "python3"
  },
  "language_info": {
   "codemirror_mode": {
    "name": "ipython",
    "version": 3
   },
   "file_extension": ".py",
   "mimetype": "text/x-python",
   "name": "python",
   "nbconvert_exporter": "python",
   "pygments_lexer": "ipython3",
   "version": "3.8.5"
  }
 },
 "nbformat": 4,
 "nbformat_minor": 4
}
